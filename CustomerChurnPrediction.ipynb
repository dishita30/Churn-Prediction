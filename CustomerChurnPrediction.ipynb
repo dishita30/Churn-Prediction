{
 "cells": [
  {
   "cell_type": "markdown",
   "metadata": {},
   "source": [
    "### 1. Data Generation:\n",
    "- Generate a synthetic dataset of 5000 customer records containing the following features:\n",
    "1. CustomerID\n",
    "2. Age\n",
    "3. Gender\n",
    "4. ContractType (Month-to-month, One year, Two year)\n",
    "5. MonthlyCharges\n",
    "6. TotalCharges\n",
    "7. TechSupport\n",
    "8. InternetService (DSL, Fiber optic, No)\n",
    "9. Tenure\n",
    "10. PaperlessBilling\n",
    "11. PaymentMethod\n",
    "12. Churn (Yes/No)\n",
    "\n",
    "- Introduce realistic distributions, correlations, and outliers to the data.\n",
    "- Ensure a target churn rate of approximately 20%.\n",
    "- Create derived features like average_monthly_charges, customer_lifetime_value."
   ]
  },
  {
   "cell_type": "markdown",
   "metadata": {},
   "source": [
    "#### Importing necessary libraries"
   ]
  },
  {
   "cell_type": "code",
   "execution_count": 1,
   "metadata": {},
   "outputs": [],
   "source": [
    "import numpy as np\n",
    "import pandas as pd"
   ]
  },
  {
   "cell_type": "code",
   "execution_count": 2,
   "metadata": {},
   "outputs": [],
   "source": [
    "# Set random seed for reproducibility\n",
    "np.random.seed(40) #For getting the same random value generation every time , seed (40) has been specified."
   ]
  },
  {
   "cell_type": "code",
   "execution_count": 3,
   "metadata": {},
   "outputs": [],
   "source": [
    "# Number of records\n",
    "Number_of_records = 5000"
   ]
  },
  {
   "cell_type": "code",
   "execution_count": 4,
   "metadata": {},
   "outputs": [],
   "source": [
    "# Generate CustomerID\n",
    "Customer_ID = np.arange(1, Number_of_records + 1)\n",
    "# NumPy arange function generates an array of integers starting from start and stopping just before stop. \n",
    "# Since np.arange stops before the given stop value, adding 1 ensures that the last value in the array is included"
   ]
  },
  {
   "cell_type": "code",
   "execution_count": 5,
   "metadata": {},
   "outputs": [],
   "source": [
    "# Generate Age with realistic distribution \n",
    "\n",
    "Age = np.clip(np.random.normal(40,10,Number_of_records),18,90).astype(int)\n",
    "\n",
    "# clip function limit the values from 18 to 90\n",
    "# random normal is used for specifying normal distribution\n",
    "# mean is 40 and standard deviation is 10\n",
    "# astype(int) so that age remains a whole number"
   ]
  },
  {
   "cell_type": "markdown",
   "metadata": {},
   "source": [
    "Purpose:\n",
    "- Mostly fall around 40 years old.\n",
    "- Have some natural variability due to the standard deviation\n",
    "- Are kept within a realistic and reasonable range (18 to 90 years old)."
   ]
  },
  {
   "cell_type": "code",
   "execution_count": 6,
   "metadata": {},
   "outputs": [],
   "source": [
    "# Generate Gender \n",
    "Gender = np.random.choice(['Male','Female'],Number_of_records)"
   ]
  },
  {
   "cell_type": "code",
   "execution_count": 7,
   "metadata": {},
   "outputs": [],
   "source": [
    "# Generate ContractType with given probabilities\n",
    "Contract_Type = np.random.choice(['Month-to-month', 'One year', 'Two year'], Number_of_records, p=[0.45, 0.20, 0.35])"
   ]
  },
  {
   "cell_type": "code",
   "execution_count": 8,
   "metadata": {},
   "outputs": [],
   "source": [
    "# Generate MonthlyCharges (normal distribution based on contract type in $ )\n",
    "Monthly_Charges = []\n",
    "for contract in Contract_Type:\n",
    "    if contract == 'Month-to-month':\n",
    "        Monthly_Charges.append(np.random.normal(60, 15))\n",
    "    elif contract == 'One year':\n",
    "        Monthly_Charges.append(np.random.normal(50, 10))\n",
    "    else:  # Two year\n",
    "        Monthly_Charges.append(np.random.normal(40, 5))"
   ]
  },
  {
   "cell_type": "markdown",
   "metadata": {},
   "source": [
    "- monthly_charges[]:  initializes an empty list to store the monthly charges for each customer.\n",
    "- for contract in contract_types: This loop iterates through each contract type in the contract_types list. The contract_types list contains the contract type for each customer.\n",
    "\n",
    "Afterwards , we used conditionals to Set monthly charges based on Contract Type.\n",
    "\n",
    "- monthly_charges.append: This appends the generated monthly charge to the monthly_charges list.\n",
    "\n",
    "Purpose:\n",
    "This generates realistic billing data for customers with different contract types. It reflects how customers with longer contracts generally pay less per month, likely as an incentive for commitment, and their charges are more predictable.\n",
    "\n",
    "Normal Distribution Usage: Using different normal distributions for each contract type introduces realistic variability in the charges, reflecting how actual customer charges might vary slightly due to different plans, features, or usage."
   ]
  },
  {
   "cell_type": "code",
   "execution_count": 9,
   "metadata": {},
   "outputs": [],
   "source": [
    "# Generate Tenure Based on Contract Type\n",
    "Tenure = []\n",
    "for contract in Contract_Type:\n",
    "    if contract == 'Month-to-month':\n",
    "        # Random number of months between 1 and 59\n",
    "        Tenure.append(np.random.randint(1, 60))\n",
    "    elif contract == 'One year':\n",
    "        # Generate random number of years between 1 and 2, then convert to months\n",
    "        years = np.random.randint(1, 3)  # 1 or 2 years\n",
    "        Tenure.append(years * 12)       # Convert years to months\n",
    "    else:  # Two year\n",
    "        # Generate random number of years between 2 and 4, then convert to months\n",
    "        years = np.random.randint(2, 5)  # 2, 3, or 4 years\n",
    "        Tenure.append(years * 12)       # Convert years to months"
   ]
  },
  {
   "cell_type": "markdown",
   "metadata": {},
   "source": [
    "Representing tenure in months, rather than using both months and years, is often done for simplicity and consistency in data analysis.\n",
    "\n",
    "1.  By using a single unit (months), all tenure values are represented in a consistent format, making it easier to analyze and compare data\n",
    "2. Ease of Calculation.\n",
    "3. More Accurate Reporting and Granularity:  Representing tenure in months allows for more precise reporting and tracking of customer lifecycle stages.\n",
    "4. Retention Analysis: When analyzing customer retention, using months provides a more detailed understanding of when customers are likely to churn (example : around the 12-month mark).\n",
    "5. Combining Data becomes easier."
   ]
  },
  {
   "cell_type": "code",
   "execution_count": 10,
   "metadata": {},
   "outputs": [],
   "source": [
    "# Generate TotalCharges (MonthlyCharges * Tenure)\n",
    "Total_charges = np.array(Monthly_Charges) * np.array(Tenure)\n",
    "Total_charges = np.round(Total_charges, 2)"
   ]
  },
  {
   "cell_type": "markdown",
   "metadata": {},
   "source": [
    "Hence, total charges can be found out by monthly charges * the tenure of the customer\n",
    "\n",
    "Second step involves the charges to be rounded off till 2 places"
   ]
  },
  {
   "cell_type": "code",
   "execution_count": 11,
   "metadata": {},
   "outputs": [],
   "source": [
    "# Generate TechSupport (Yes/No)\n",
    "Tech_Support = np.random.choice(['Yes', 'No'], Number_of_records, p=[0.4, 0.6])"
   ]
  },
  {
   "cell_type": "markdown",
   "metadata": {},
   "source": [
    "Distributing Tech Support randomly with probability of YES as 0.4 and NO as 0.6"
   ]
  },
  {
   "cell_type": "code",
   "execution_count": 12,
   "metadata": {},
   "outputs": [],
   "source": [
    "# Generate InternetService (DSL, Fiber optic, No) \n",
    "Internet_Service = np.random.choice(['DSL', 'Fiber optic', 'No'],Number_of_records, p=[0.23, 0.47, 0.3])"
   ]
  },
  {
   "cell_type": "code",
   "execution_count": 13,
   "metadata": {},
   "outputs": [],
   "source": [
    "# Generate PaperlessBilling (Yes/No) \n",
    "Paperless_Billing = np.random.choice(['Yes', 'No'], Number_of_records, p=[0.7, 0.3])"
   ]
  },
  {
   "cell_type": "code",
   "execution_count": 14,
   "metadata": {},
   "outputs": [],
   "source": [
    "# Generate PaymentMethod \n",
    "Payment_Methods = [\n",
    "    'Electronic check', \n",
    "    'Mailed check', \n",
    "    'Bank transfer', \n",
    "    'Credit card', \n",
    "    'PayPal',           # Added Digital Wallet\n",
    "    'Apple Pay',        # Added Mobile Payment\n",
    "    'Google Pay',       # Added Mobile Payment\n",
    "    'Cryptocurrency',   # Added Cryptocurrency option\n",
    "    'Cash',             # Added Cash option\n",
    "    'Wire Transfer',    # Added Wire Transfer option\n",
    "    'Buy Now, Pay Later (BNPL)', # Added BNPL option\n",
    "    'Gift Card'         # Added Prepaid Card option\n",
    "]\n",
    "\n",
    "# Generate payment methods for each record\n",
    "Payment_Method = np.random.choice(Payment_Methods, Number_of_records)"
   ]
  },
  {
   "cell_type": "code",
   "execution_count": 15,
   "metadata": {},
   "outputs": [],
   "source": [
    "# Generate Churn (Yes/No) with target churn rate of 20%\n",
    "Churn = np.random.choice(['Yes', 'No'], Number_of_records, p=[0.2, 0.8])"
   ]
  },
  {
   "cell_type": "markdown",
   "metadata": {},
   "source": [
    "#### Creating derived features: \n",
    "- average_monthly_charges \n",
    "- customer_lifetime_value"
   ]
  },
  {
   "cell_type": "code",
   "execution_count": 16,
   "metadata": {},
   "outputs": [],
   "source": [
    "#average monthly charges\n",
    "average_monthly_charges = Total_charges / np.where(Tenure == 0, 1, Tenure)"
   ]
  },
  {
   "cell_type": "markdown",
   "metadata": {},
   "source": [
    "where tenure is by error 0, it will count tenure as 1 and continue. other than this, we we will get average monthly charge by simply dividing the total charges by tenure of the customer"
   ]
  },
  {
   "cell_type": "code",
   "execution_count": 17,
   "metadata": {},
   "outputs": [],
   "source": [
    "# customer lifetime value\n",
    "customer_lifetime_value = Total_charges * np.where(Churn == 'Yes', 1.5, 1)"
   ]
  },
  {
   "cell_type": "markdown",
   "metadata": {},
   "source": [
    "Total value that customer has brought to company is the customer lifetime value. So, if the customer has churned i.e stayed in their agreement , we assume they brought 1.5 times the value. Otherwise, we simply multiply by 1 that is the original total charges value since customer has not churned."
   ]
  },
  {
   "cell_type": "code",
   "execution_count": 18,
   "metadata": {},
   "outputs": [],
   "source": [
    "# Create the DataFrame\n",
    "data = pd.DataFrame({\n",
    "    'CustomerID': Customer_ID,\n",
    "    'Age': Age,\n",
    "    'Gender': Gender,\n",
    "    'ContractType': Contract_Type,\n",
    "    'MonthlyCharges': np.round(Monthly_Charges, 2),\n",
    "    'TotalCharges': Total_charges,\n",
    "    'TechSupport': Tech_Support,\n",
    "    'InternetService': Internet_Service,\n",
    "    'Tenure': Tenure,\n",
    "    'PaperlessBilling': Paperless_Billing,\n",
    "    'PaymentMethod': Payment_Method,\n",
    "    'AverageMonthlyCharges': np.round(average_monthly_charges, 2), #ROUNDING OFF TO 2\n",
    "    'CustomerLifetimeValue': np.round(customer_lifetime_value, 2),\n",
    "    'Churn': Churn\n",
    "})"
   ]
  },
  {
   "cell_type": "markdown",
   "metadata": {},
   "source": [
    "### Introduce data quality issues\n",
    "\n",
    "We'll introduce missing values in 3% of the rows for 'Age', 5 % for 'TotalCharges', and 2% for'InternetService'"
   ]
  },
  {
   "cell_type": "code",
   "execution_count": 19,
   "metadata": {},
   "outputs": [],
   "source": [
    "missing_age = np.random.choice(data.index, size=int(0.03 * Number_of_records), replace=False)\n",
    "missing_totalcharges = np.random.choice(data.index, size=int(0.05 * Number_of_records), replace=False)\n",
    "missing_internetservice = np.random.choice(data.index, size=int(0.02 * Number_of_records), replace=False)\n",
    "\n",
    "data.loc[missing_age, 'Age'] = np.nan\n",
    "data.loc[missing_totalcharges, 'TotalCharges'] = np.nan\n",
    "data.loc[missing_internetservice, 'InternetService'] = np.nan"
   ]
  },
  {
   "cell_type": "markdown",
   "metadata": {},
   "source": [
    "Introduce Outliers"
   ]
  },
  {
   "cell_type": "code",
   "execution_count": 20,
   "metadata": {},
   "outputs": [],
   "source": [
    "# Introduce outliers in 'TotalCharges' (1% extreme values)\n",
    "outliers = np.random.choice(data.index, size=int(0.01 * Number_of_records), replace=False)\n",
    "data.loc[outliers, 'TotalCharges'] *= 3  # Triple the charges for outliers"
   ]
  },
  {
   "cell_type": "code",
   "execution_count": 21,
   "metadata": {},
   "outputs": [],
   "source": [
    "# Data Volume: Reduce dataset size to simulate real-world constraints\n",
    "# Keep only a subset of 2000 records\n",
    "data_reduced = data.sample(n=3000, random_state=40).reset_index(drop=True)"
   ]
  },
  {
   "cell_type": "markdown",
   "metadata": {},
   "source": [
    "Purpose: This part of the code randomly selects a subset of 3000 records from the original dataset data."
   ]
  },
  {
   "cell_type": "code",
   "execution_count": 22,
   "metadata": {},
   "outputs": [],
   "source": [
    "data_reduced.to_csv(\"CUSTOMER CHURN PREDICTION.csv\")"
   ]
  },
  {
   "cell_type": "markdown",
   "metadata": {},
   "source": [
    "### 2. Exploratory Data Analysis (EDA):\n",
    "- Perform in-depth EDA to understand the dataset characteristics.\n",
    "- Calculate summary statistics for numerical columns.\n",
    "- Analyze categorical data distributions.\n",
    "- Visualize relationships between features and the target variable (churn).\n",
    "- Identify potential correlations and patterns."
   ]
  },
  {
   "cell_type": "markdown",
   "metadata": {},
   "source": [
    "Importing necessary libraries"
   ]
  },
  {
   "cell_type": "code",
   "execution_count": 23,
   "metadata": {},
   "outputs": [],
   "source": [
    "import pandas as pd  \n",
    "import numpy as np\n",
    "import seaborn as sns  \n",
    "import matplotlib.pyplot as plt"
   ]
  },
  {
   "cell_type": "code",
   "execution_count": 24,
   "metadata": {},
   "outputs": [],
   "source": [
    "# Reading the data file\n",
    "data = pd.read_csv(\"CUSTOMER CHURN PREDICTION.csv\")"
   ]
  },
  {
   "cell_type": "code",
   "execution_count": 25,
   "metadata": {},
   "outputs": [
    {
     "data": {
      "text/html": [
       "<div>\n",
       "<style scoped>\n",
       "    .dataframe tbody tr th:only-of-type {\n",
       "        vertical-align: middle;\n",
       "    }\n",
       "\n",
       "    .dataframe tbody tr th {\n",
       "        vertical-align: top;\n",
       "    }\n",
       "\n",
       "    .dataframe thead th {\n",
       "        text-align: right;\n",
       "    }\n",
       "</style>\n",
       "<table border=\"1\" class=\"dataframe\">\n",
       "  <thead>\n",
       "    <tr style=\"text-align: right;\">\n",
       "      <th></th>\n",
       "      <th>Unnamed: 0</th>\n",
       "      <th>CustomerID</th>\n",
       "      <th>Age</th>\n",
       "      <th>Gender</th>\n",
       "      <th>ContractType</th>\n",
       "      <th>MonthlyCharges</th>\n",
       "      <th>TotalCharges</th>\n",
       "      <th>TechSupport</th>\n",
       "      <th>InternetService</th>\n",
       "      <th>Tenure</th>\n",
       "      <th>PaperlessBilling</th>\n",
       "      <th>PaymentMethod</th>\n",
       "      <th>AverageMonthlyCharges</th>\n",
       "      <th>CustomerLifetimeValue</th>\n",
       "      <th>Churn</th>\n",
       "    </tr>\n",
       "  </thead>\n",
       "  <tbody>\n",
       "    <tr>\n",
       "      <th>0</th>\n",
       "      <td>0</td>\n",
       "      <td>4089</td>\n",
       "      <td>43.0</td>\n",
       "      <td>Male</td>\n",
       "      <td>Month-to-month</td>\n",
       "      <td>82.77</td>\n",
       "      <td>1655.37</td>\n",
       "      <td>Yes</td>\n",
       "      <td>No</td>\n",
       "      <td>20</td>\n",
       "      <td>No</td>\n",
       "      <td>Credit card</td>\n",
       "      <td>82.77</td>\n",
       "      <td>1655.37</td>\n",
       "      <td>No</td>\n",
       "    </tr>\n",
       "    <tr>\n",
       "      <th>1</th>\n",
       "      <td>1</td>\n",
       "      <td>2081</td>\n",
       "      <td>41.0</td>\n",
       "      <td>Female</td>\n",
       "      <td>One year</td>\n",
       "      <td>55.05</td>\n",
       "      <td>660.66</td>\n",
       "      <td>No</td>\n",
       "      <td>DSL</td>\n",
       "      <td>12</td>\n",
       "      <td>Yes</td>\n",
       "      <td>Gift Card</td>\n",
       "      <td>55.06</td>\n",
       "      <td>660.66</td>\n",
       "      <td>No</td>\n",
       "    </tr>\n",
       "    <tr>\n",
       "      <th>2</th>\n",
       "      <td>2</td>\n",
       "      <td>42</td>\n",
       "      <td>49.0</td>\n",
       "      <td>Female</td>\n",
       "      <td>Month-to-month</td>\n",
       "      <td>59.15</td>\n",
       "      <td>2188.63</td>\n",
       "      <td>No</td>\n",
       "      <td>DSL</td>\n",
       "      <td>37</td>\n",
       "      <td>No</td>\n",
       "      <td>Buy Now, Pay Later (BNPL)</td>\n",
       "      <td>59.15</td>\n",
       "      <td>2188.63</td>\n",
       "      <td>No</td>\n",
       "    </tr>\n",
       "    <tr>\n",
       "      <th>3</th>\n",
       "      <td>3</td>\n",
       "      <td>797</td>\n",
       "      <td>40.0</td>\n",
       "      <td>Female</td>\n",
       "      <td>Two year</td>\n",
       "      <td>39.41</td>\n",
       "      <td>1891.63</td>\n",
       "      <td>Yes</td>\n",
       "      <td>Fiber optic</td>\n",
       "      <td>48</td>\n",
       "      <td>No</td>\n",
       "      <td>Cryptocurrency</td>\n",
       "      <td>39.41</td>\n",
       "      <td>1891.63</td>\n",
       "      <td>No</td>\n",
       "    </tr>\n",
       "    <tr>\n",
       "      <th>4</th>\n",
       "      <td>4</td>\n",
       "      <td>355</td>\n",
       "      <td>43.0</td>\n",
       "      <td>Female</td>\n",
       "      <td>Month-to-month</td>\n",
       "      <td>53.85</td>\n",
       "      <td>646.21</td>\n",
       "      <td>No</td>\n",
       "      <td>Fiber optic</td>\n",
       "      <td>12</td>\n",
       "      <td>Yes</td>\n",
       "      <td>Mailed check</td>\n",
       "      <td>53.85</td>\n",
       "      <td>646.21</td>\n",
       "      <td>No</td>\n",
       "    </tr>\n",
       "    <tr>\n",
       "      <th>5</th>\n",
       "      <td>5</td>\n",
       "      <td>4184</td>\n",
       "      <td>44.0</td>\n",
       "      <td>Female</td>\n",
       "      <td>Month-to-month</td>\n",
       "      <td>77.97</td>\n",
       "      <td>3430.47</td>\n",
       "      <td>No</td>\n",
       "      <td>No</td>\n",
       "      <td>44</td>\n",
       "      <td>Yes</td>\n",
       "      <td>Buy Now, Pay Later (BNPL)</td>\n",
       "      <td>77.97</td>\n",
       "      <td>3430.47</td>\n",
       "      <td>No</td>\n",
       "    </tr>\n",
       "    <tr>\n",
       "      <th>6</th>\n",
       "      <td>6</td>\n",
       "      <td>4293</td>\n",
       "      <td>32.0</td>\n",
       "      <td>Male</td>\n",
       "      <td>Month-to-month</td>\n",
       "      <td>48.35</td>\n",
       "      <td>967.04</td>\n",
       "      <td>Yes</td>\n",
       "      <td>No</td>\n",
       "      <td>20</td>\n",
       "      <td>Yes</td>\n",
       "      <td>Apple Pay</td>\n",
       "      <td>48.35</td>\n",
       "      <td>967.04</td>\n",
       "      <td>No</td>\n",
       "    </tr>\n",
       "    <tr>\n",
       "      <th>7</th>\n",
       "      <td>7</td>\n",
       "      <td>2347</td>\n",
       "      <td>44.0</td>\n",
       "      <td>Female</td>\n",
       "      <td>Two year</td>\n",
       "      <td>48.23</td>\n",
       "      <td>1736.44</td>\n",
       "      <td>No</td>\n",
       "      <td>No</td>\n",
       "      <td>36</td>\n",
       "      <td>No</td>\n",
       "      <td>Buy Now, Pay Later (BNPL)</td>\n",
       "      <td>48.23</td>\n",
       "      <td>1736.44</td>\n",
       "      <td>No</td>\n",
       "    </tr>\n",
       "    <tr>\n",
       "      <th>8</th>\n",
       "      <td>8</td>\n",
       "      <td>2765</td>\n",
       "      <td>40.0</td>\n",
       "      <td>Female</td>\n",
       "      <td>Month-to-month</td>\n",
       "      <td>53.86</td>\n",
       "      <td>2531.59</td>\n",
       "      <td>No</td>\n",
       "      <td>Fiber optic</td>\n",
       "      <td>47</td>\n",
       "      <td>Yes</td>\n",
       "      <td>Wire Transfer</td>\n",
       "      <td>53.86</td>\n",
       "      <td>2531.59</td>\n",
       "      <td>No</td>\n",
       "    </tr>\n",
       "    <tr>\n",
       "      <th>9</th>\n",
       "      <td>9</td>\n",
       "      <td>4950</td>\n",
       "      <td>51.0</td>\n",
       "      <td>Male</td>\n",
       "      <td>Two year</td>\n",
       "      <td>32.85</td>\n",
       "      <td>1182.70</td>\n",
       "      <td>No</td>\n",
       "      <td>No</td>\n",
       "      <td>36</td>\n",
       "      <td>Yes</td>\n",
       "      <td>Credit card</td>\n",
       "      <td>32.85</td>\n",
       "      <td>1182.70</td>\n",
       "      <td>No</td>\n",
       "    </tr>\n",
       "  </tbody>\n",
       "</table>\n",
       "</div>"
      ],
      "text/plain": [
       "   Unnamed: 0  CustomerID   Age  Gender    ContractType  MonthlyCharges  \\\n",
       "0           0        4089  43.0    Male  Month-to-month           82.77   \n",
       "1           1        2081  41.0  Female        One year           55.05   \n",
       "2           2          42  49.0  Female  Month-to-month           59.15   \n",
       "3           3         797  40.0  Female        Two year           39.41   \n",
       "4           4         355  43.0  Female  Month-to-month           53.85   \n",
       "5           5        4184  44.0  Female  Month-to-month           77.97   \n",
       "6           6        4293  32.0    Male  Month-to-month           48.35   \n",
       "7           7        2347  44.0  Female        Two year           48.23   \n",
       "8           8        2765  40.0  Female  Month-to-month           53.86   \n",
       "9           9        4950  51.0    Male        Two year           32.85   \n",
       "\n",
       "   TotalCharges TechSupport InternetService  Tenure PaperlessBilling  \\\n",
       "0       1655.37         Yes              No      20               No   \n",
       "1        660.66          No             DSL      12              Yes   \n",
       "2       2188.63          No             DSL      37               No   \n",
       "3       1891.63         Yes     Fiber optic      48               No   \n",
       "4        646.21          No     Fiber optic      12              Yes   \n",
       "5       3430.47          No              No      44              Yes   \n",
       "6        967.04         Yes              No      20              Yes   \n",
       "7       1736.44          No              No      36               No   \n",
       "8       2531.59          No     Fiber optic      47              Yes   \n",
       "9       1182.70          No              No      36              Yes   \n",
       "\n",
       "               PaymentMethod  AverageMonthlyCharges  CustomerLifetimeValue  \\\n",
       "0                Credit card                  82.77                1655.37   \n",
       "1                  Gift Card                  55.06                 660.66   \n",
       "2  Buy Now, Pay Later (BNPL)                  59.15                2188.63   \n",
       "3             Cryptocurrency                  39.41                1891.63   \n",
       "4               Mailed check                  53.85                 646.21   \n",
       "5  Buy Now, Pay Later (BNPL)                  77.97                3430.47   \n",
       "6                  Apple Pay                  48.35                 967.04   \n",
       "7  Buy Now, Pay Later (BNPL)                  48.23                1736.44   \n",
       "8              Wire Transfer                  53.86                2531.59   \n",
       "9                Credit card                  32.85                1182.70   \n",
       "\n",
       "  Churn  \n",
       "0    No  \n",
       "1    No  \n",
       "2    No  \n",
       "3    No  \n",
       "4    No  \n",
       "5    No  \n",
       "6    No  \n",
       "7    No  \n",
       "8    No  \n",
       "9    No  "
      ]
     },
     "execution_count": 25,
     "metadata": {},
     "output_type": "execute_result"
    }
   ],
   "source": [
    "# Reviewing the first 10 rows of the data\n",
    "data.head(10)"
   ]
  },
  {
   "cell_type": "code",
   "execution_count": 26,
   "metadata": {},
   "outputs": [
    {
     "data": {
      "text/plain": [
       "Unnamed: 0                 0\n",
       "CustomerID                 0\n",
       "Age                       79\n",
       "Gender                     0\n",
       "ContractType               0\n",
       "MonthlyCharges             0\n",
       "TotalCharges             151\n",
       "TechSupport                0\n",
       "InternetService           67\n",
       "Tenure                     0\n",
       "PaperlessBilling           0\n",
       "PaymentMethod              0\n",
       "AverageMonthlyCharges      0\n",
       "CustomerLifetimeValue      0\n",
       "Churn                      0\n",
       "dtype: int64"
      ]
     },
     "execution_count": 26,
     "metadata": {},
     "output_type": "execute_result"
    }
   ],
   "source": [
    "# Checking out sum of all the null values column wise\n",
    "data.isna().sum()"
   ]
  },
  {
   "cell_type": "code",
   "execution_count": 27,
   "metadata": {},
   "outputs": [
    {
     "data": {
      "text/plain": [
       "(3000, 15)"
      ]
     },
     "execution_count": 27,
     "metadata": {},
     "output_type": "execute_result"
    }
   ],
   "source": [
    "# Reduced dataset from 5000 to 3000\n",
    "data.shape "
   ]
  },
  {
   "cell_type": "markdown",
   "metadata": {},
   "source": [
    "#### Summary statistics"
   ]
  },
  {
   "cell_type": "code",
   "execution_count": 28,
   "metadata": {},
   "outputs": [
    {
     "data": {
      "text/html": [
       "<div>\n",
       "<style scoped>\n",
       "    .dataframe tbody tr th:only-of-type {\n",
       "        vertical-align: middle;\n",
       "    }\n",
       "\n",
       "    .dataframe tbody tr th {\n",
       "        vertical-align: top;\n",
       "    }\n",
       "\n",
       "    .dataframe thead th {\n",
       "        text-align: right;\n",
       "    }\n",
       "</style>\n",
       "<table border=\"1\" class=\"dataframe\">\n",
       "  <thead>\n",
       "    <tr style=\"text-align: right;\">\n",
       "      <th></th>\n",
       "      <th>Unnamed: 0</th>\n",
       "      <th>CustomerID</th>\n",
       "      <th>Age</th>\n",
       "      <th>MonthlyCharges</th>\n",
       "      <th>TotalCharges</th>\n",
       "      <th>Tenure</th>\n",
       "      <th>AverageMonthlyCharges</th>\n",
       "      <th>CustomerLifetimeValue</th>\n",
       "    </tr>\n",
       "  </thead>\n",
       "  <tbody>\n",
       "    <tr>\n",
       "      <th>count</th>\n",
       "      <td>3000.000000</td>\n",
       "      <td>3000.000000</td>\n",
       "      <td>2921.000000</td>\n",
       "      <td>3000.000000</td>\n",
       "      <td>2849.000000</td>\n",
       "      <td>3000.000000</td>\n",
       "      <td>3000.000000</td>\n",
       "      <td>3000.000000</td>\n",
       "    </tr>\n",
       "    <tr>\n",
       "      <th>mean</th>\n",
       "      <td>1499.500000</td>\n",
       "      <td>2502.353667</td>\n",
       "      <td>39.380349</td>\n",
       "      <td>50.878403</td>\n",
       "      <td>1516.668824</td>\n",
       "      <td>29.537333</td>\n",
       "      <td>50.878423</td>\n",
       "      <td>1628.573403</td>\n",
       "    </tr>\n",
       "    <tr>\n",
       "      <th>std</th>\n",
       "      <td>866.169729</td>\n",
       "      <td>1456.413337</td>\n",
       "      <td>9.739069</td>\n",
       "      <td>14.445109</td>\n",
       "      <td>1014.613218</td>\n",
       "      <td>14.467701</td>\n",
       "      <td>14.445102</td>\n",
       "      <td>1017.640553</td>\n",
       "    </tr>\n",
       "    <tr>\n",
       "      <th>min</th>\n",
       "      <td>0.000000</td>\n",
       "      <td>2.000000</td>\n",
       "      <td>18.000000</td>\n",
       "      <td>3.250000</td>\n",
       "      <td>38.870000</td>\n",
       "      <td>1.000000</td>\n",
       "      <td>3.250000</td>\n",
       "      <td>38.870000</td>\n",
       "    </tr>\n",
       "    <tr>\n",
       "      <th>25%</th>\n",
       "      <td>749.750000</td>\n",
       "      <td>1220.500000</td>\n",
       "      <td>33.000000</td>\n",
       "      <td>40.290000</td>\n",
       "      <td>853.440000</td>\n",
       "      <td>20.000000</td>\n",
       "      <td>40.290000</td>\n",
       "      <td>915.702500</td>\n",
       "    </tr>\n",
       "    <tr>\n",
       "      <th>50%</th>\n",
       "      <td>1499.500000</td>\n",
       "      <td>2527.500000</td>\n",
       "      <td>39.000000</td>\n",
       "      <td>47.705000</td>\n",
       "      <td>1332.750000</td>\n",
       "      <td>25.000000</td>\n",
       "      <td>47.705000</td>\n",
       "      <td>1438.810000</td>\n",
       "    </tr>\n",
       "    <tr>\n",
       "      <th>75%</th>\n",
       "      <td>2249.250000</td>\n",
       "      <td>3767.250000</td>\n",
       "      <td>46.000000</td>\n",
       "      <td>60.252500</td>\n",
       "      <td>1958.060000</td>\n",
       "      <td>41.000000</td>\n",
       "      <td>60.252500</td>\n",
       "      <td>2084.935000</td>\n",
       "    </tr>\n",
       "    <tr>\n",
       "      <th>max</th>\n",
       "      <td>2999.000000</td>\n",
       "      <td>5000.000000</td>\n",
       "      <td>74.000000</td>\n",
       "      <td>116.440000</td>\n",
       "      <td>13992.870000</td>\n",
       "      <td>59.000000</td>\n",
       "      <td>116.440000</td>\n",
       "      <td>6894.640000</td>\n",
       "    </tr>\n",
       "  </tbody>\n",
       "</table>\n",
       "</div>"
      ],
      "text/plain": [
       "        Unnamed: 0   CustomerID          Age  MonthlyCharges  TotalCharges  \\\n",
       "count  3000.000000  3000.000000  2921.000000     3000.000000   2849.000000   \n",
       "mean   1499.500000  2502.353667    39.380349       50.878403   1516.668824   \n",
       "std     866.169729  1456.413337     9.739069       14.445109   1014.613218   \n",
       "min       0.000000     2.000000    18.000000        3.250000     38.870000   \n",
       "25%     749.750000  1220.500000    33.000000       40.290000    853.440000   \n",
       "50%    1499.500000  2527.500000    39.000000       47.705000   1332.750000   \n",
       "75%    2249.250000  3767.250000    46.000000       60.252500   1958.060000   \n",
       "max    2999.000000  5000.000000    74.000000      116.440000  13992.870000   \n",
       "\n",
       "            Tenure  AverageMonthlyCharges  CustomerLifetimeValue  \n",
       "count  3000.000000            3000.000000            3000.000000  \n",
       "mean     29.537333              50.878423            1628.573403  \n",
       "std      14.467701              14.445102            1017.640553  \n",
       "min       1.000000               3.250000              38.870000  \n",
       "25%      20.000000              40.290000             915.702500  \n",
       "50%      25.000000              47.705000            1438.810000  \n",
       "75%      41.000000              60.252500            2084.935000  \n",
       "max      59.000000             116.440000            6894.640000  "
      ]
     },
     "execution_count": 28,
     "metadata": {},
     "output_type": "execute_result"
    }
   ],
   "source": [
    "# Describing the data\n",
    "data.describe()"
   ]
  },
  {
   "cell_type": "code",
   "execution_count": 29,
   "metadata": {},
   "outputs": [
    {
     "data": {
      "text/plain": [
       "Churn\n",
       "No     2388\n",
       "Yes     612\n",
       "Name: count, dtype: int64"
      ]
     },
     "execution_count": 29,
     "metadata": {},
     "output_type": "execute_result"
    }
   ],
   "source": [
    "# Analyze Categorical Data Distributions\n",
    "Churn_distribution = data['Churn'].value_counts()\n",
    "Churn_distribution"
   ]
  },
  {
   "cell_type": "markdown",
   "metadata": {},
   "source": [
    "We have 621 customers who have churned and 2379 who have not. \n",
    "(THE DATA IS IMBALANCED)"
   ]
  },
  {
   "cell_type": "code",
   "execution_count": 30,
   "metadata": {},
   "outputs": [
    {
     "data": {
      "text/plain": [
       "Gender\n",
       "Female    1527\n",
       "Male      1473\n",
       "Name: count, dtype: int64"
      ]
     },
     "execution_count": 30,
     "metadata": {},
     "output_type": "execute_result"
    }
   ],
   "source": [
    "# Check gender distribution\n",
    "Gender_distribution = data[\"Gender\"].value_counts()\n",
    "Gender_distribution"
   ]
  },
  {
   "cell_type": "markdown",
   "metadata": {},
   "source": [
    "We have 1527 female and 1473 male customers."
   ]
  },
  {
   "cell_type": "code",
   "execution_count": 31,
   "metadata": {},
   "outputs": [
    {
     "data": {
      "text/plain": [
       "ContractType\n",
       "Month-to-month    1362\n",
       "Two year          1032\n",
       "One year           606\n",
       "Name: count, dtype: int64"
      ]
     },
     "execution_count": 31,
     "metadata": {},
     "output_type": "execute_result"
    }
   ],
   "source": [
    "# Check contract type distribution\n",
    "Contract_type_distribution = data['ContractType'].value_counts()\n",
    "Contract_type_distribution"
   ]
  },
  {
   "cell_type": "markdown",
   "metadata": {},
   "source": [
    "#### Performing  Categorical Analysis on the number of people who's age is above the mean and below the mean."
   ]
  },
  {
   "cell_type": "code",
   "execution_count": 32,
   "metadata": {},
   "outputs": [
    {
     "data": {
      "text/plain": [
       "39"
      ]
     },
     "execution_count": 32,
     "metadata": {},
     "output_type": "execute_result"
    }
   ],
   "source": [
    "mean_age = data[\"Age\"].mean()\n",
    "mean_age.astype(int) # since age is int type and not float"
   ]
  },
  {
   "cell_type": "markdown",
   "metadata": {},
   "source": [
    "The mean age is 39."
   ]
  },
  {
   "cell_type": "code",
   "execution_count": 33,
   "metadata": {},
   "outputs": [
    {
     "data": {
      "text/plain": [
       "(1485, 1436)"
      ]
     },
     "execution_count": 33,
     "metadata": {},
     "output_type": "execute_result"
    }
   ],
   "source": [
    "# Check how many people are below and above mean age\n",
    "Below_mean_age_count = data[data[\"Age\"]<=39].shape[0]#including 39 and below\n",
    "Above_mean_age_count = data[data[\"Age\"]>39].shape[0]\n",
    "Below_mean_age_count,Above_mean_age_count"
   ]
  },
  {
   "cell_type": "markdown",
   "metadata": {},
   "source": [
    "This gives us accurate count of ages above 39 & 39 and below ages."
   ]
  },
  {
   "cell_type": "markdown",
   "metadata": {},
   "source": [
    "To use value counts method, we have created a NEW CATEGORY that is AGE CATEGORY which describes above mean age or below mean age(includes 39)\n",
    "\n",
    "we have used numpy where function , in which we distributed on the basis of condition of age in  data . All values in data less than MEAN AGE goes in 'BELOW MEAN AGE' and is showcased as the same in dataset. The other values goes in 'ABOVE MEAN AGE' respectedly.\n",
    "\n",
    "As of now this includes the null values as well, since it counts all unique occurences. For this to be accurate, we need to remove all nulls values first. Thus the difference while we use shaped and null. Therefore, using shape is more reliable and efficient if nulls values are present."
   ]
  },
  {
   "cell_type": "markdown",
   "metadata": {},
   "source": [
    "#### Visualize relationships between features and the target variable (churn)."
   ]
  },
  {
   "cell_type": "code",
   "execution_count": 34,
   "metadata": {},
   "outputs": [],
   "source": [
    "# To distinguish between chunks of data we set style as whitegrid\n",
    "sns.set_style('whitegrid')"
   ]
  },
  {
   "cell_type": "markdown",
   "metadata": {},
   "source": [
    "Age vs. Churn"
   ]
  },
  {
   "cell_type": "code",
   "execution_count": 35,
   "metadata": {},
   "outputs": [
    {
     "name": "stderr",
     "output_type": "stream",
     "text": [
      "C:\\Users\\princ\\AppData\\Roaming\\Python\\Python310\\site-packages\\seaborn\\_oldcore.py:1119: FutureWarning: use_inf_as_na option is deprecated and will be removed in a future version. Convert inf values to NaN before operating instead.\n",
      "  with pd.option_context('mode.use_inf_as_na', True):\n",
      "C:\\Users\\princ\\AppData\\Roaming\\Python\\Python310\\site-packages\\seaborn\\_oldcore.py:1075: FutureWarning: When grouping with a length-1 list-like, you will need to pass a length-1 tuple to get_group in a future version of pandas. Pass `(name,)` instead of `name` to silence this warning.\n",
      "  data_subset = grouped_data.get_group(pd_key)\n",
      "C:\\Users\\princ\\AppData\\Roaming\\Python\\Python310\\site-packages\\seaborn\\_oldcore.py:1075: FutureWarning: When grouping with a length-1 list-like, you will need to pass a length-1 tuple to get_group in a future version of pandas. Pass `(name,)` instead of `name` to silence this warning.\n",
      "  data_subset = grouped_data.get_group(pd_key)\n",
      "C:\\Users\\princ\\AppData\\Roaming\\Python\\Python310\\site-packages\\seaborn\\_oldcore.py:1075: FutureWarning: When grouping with a length-1 list-like, you will need to pass a length-1 tuple to get_group in a future version of pandas. Pass `(name,)` instead of `name` to silence this warning.\n",
      "  data_subset = grouped_data.get_group(pd_key)\n",
      "C:\\Users\\princ\\AppData\\Roaming\\Python\\Python310\\site-packages\\seaborn\\_oldcore.py:1075: FutureWarning: When grouping with a length-1 list-like, you will need to pass a length-1 tuple to get_group in a future version of pandas. Pass `(name,)` instead of `name` to silence this warning.\n",
      "  data_subset = grouped_data.get_group(pd_key)\n",
      "C:\\Users\\princ\\AppData\\Roaming\\Python\\Python310\\site-packages\\seaborn\\_oldcore.py:1075: FutureWarning: When grouping with a length-1 list-like, you will need to pass a length-1 tuple to get_group in a future version of pandas. Pass `(name,)` instead of `name` to silence this warning.\n",
      "  data_subset = grouped_data.get_group(pd_key)\n"
     ]
    },
    {
     "data": {
      "image/png": "[encoded data removed]",
      "text/plain": [
       "<Figure size 648x432 with 1 Axes>"
      ]
     },
     "metadata": {
      "needs_background": "light"
     },
     "output_type": "display_data"
    }
   ],
   "source": [
    "#USING HISTPLOT\n",
    "plt.figure(figsize = (9,6)) # 9 inches in width and 6 inches in height\n",
    "sns.histplot(data=data,x = 'Age',hue='Churn',multiple='stack',kde=True)\n",
    "plt.title('Age Distribution by Churn Status')\n",
    "plt.xlabel('Age')\n",
    "plt.ylabel('Count')\n",
    "plt.show()\n",
    "\n",
    "#since multiple = dodge gives us similar result as countplot we used stack. "
   ]
  },
  {
   "cell_type": "markdown",
   "metadata": {},
   "source": [
    "INSIGHT - The plot shows that most customers are aged between 30 and 50, with churn being relatively low in this group. Younger (under 30) and older (over 50) customers have a higher likelihood of churn, though they represent a smaller portion of the customer base."
   ]
  },
  {
   "cell_type": "markdown",
   "metadata": {},
   "source": [
    "x='Age': Specifies that the Age column from the dataset should be plotted on the x-axis\n",
    "\n",
    "hue='Churn': Adds color differentiation based on the Churn column. This means that the histogram will be split into different colors representing different values of Churn\n",
    "\n",
    "\n",
    "multiple='dodge': This argument specifies that the histogram bars for different Churn values should be stacked on top of each other. This helps to see the total count and the contribution of each category to the total\n",
    "\n",
    "kde=True: Stands for Kernel Density Estimate. When it is set to True, it adds a KDE line over the histogram, which provides a smooth curve representing the distribution of the data"
   ]
  },
  {
   "cell_type": "markdown",
   "metadata": {},
   "source": [
    "Total Charges vs. Churn"
   ]
  },
  {
   "cell_type": "code",
   "execution_count": 36,
   "metadata": {},
   "outputs": [
    {
     "data": {
      "image/png": "[encoded data removed]",
      "text/plain": [
       "<Figure size 504x432 with 1 Axes>"
      ]
     },
     "metadata": {
      "needs_background": "light"
     },
     "output_type": "display_data"
    }
   ],
   "source": [
    "# USING BOXPLOT\n",
    "plt.figure(figsize=(7, 6))\n",
    "sns.boxplot(data=data, x='Churn', y='TotalCharges')\n",
    "plt.title(' ChargeTotals by Churn Status')\n",
    "plt.xlabel('Churn')\n",
    "plt.ylabel('Total Charges')\n",
    "plt.show()"
   ]
  },
  {
   "cell_type": "markdown",
   "metadata": {},
   "source": [
    "INSIGHT - This box plot shows that customers who churn (\"Yes\") and those who don't (\"No\") have similar distributions of total charges. Both groups have a median around $2,000, with a similar spread of charges. However, both groups also have a significant number of outliers with very high charges, indicating that total charges alone may not be a strong predictor of churn."
   ]
  },
  {
   "cell_type": "markdown",
   "metadata": {},
   "source": [
    "Internet Service vs. Churn"
   ]
  },
  {
   "cell_type": "code",
   "execution_count": 37,
   "metadata": {},
   "outputs": [
    {
     "data": {
      "image/png": "[encoded data removed]",
      "text/plain": [
       "<Figure size 648x432 with 1 Axes>"
      ]
     },
     "metadata": {
      "needs_background": "light"
     },
     "output_type": "display_data"
    }
   ],
   "source": [
    "# USING COUNTPLOT\n",
    "plt.figure(figsize=(9, 6))\n",
    "sns.countplot(data=data, x='InternetService', hue='Churn',palette='viridis')\n",
    "plt.title('Internet Service by Churn Status')\n",
    "plt.xlabel('Internet Service')\n",
    "plt.ylabel('Count') \n",
    "plt.show()"
   ]
  },
  {
   "cell_type": "markdown",
   "metadata": {},
   "source": [
    "INSIGHT - This bar plot displays the relationship between internet service type and customer churn status. Here’s a concise insight:\n",
    "- No Internet Service: The majority of customers who do not have internet service do not churn. Churn is minimal in this group.\n",
    "- DSL Service: A notable portion of customers with DSL service do churn, but the majority still stay.\n",
    "- Fiber Optic Service: Fiber optic service has the highest number of customers, but it also has a relatively high churn rate compared to DSL and no service.\n",
    "\n",
    "Overall, customers with fiber optic service are more likely to churn than those with DSL or no internet service."
   ]
  },
  {
   "cell_type": "markdown",
   "metadata": {},
   "source": [
    "Monthly Charges vs. Churn"
   ]
  },
  {
   "cell_type": "code",
   "execution_count": 38,
   "metadata": {},
   "outputs": [
    {
     "data": {
      "image/png": "[encoded data removed]",
      "text/plain": [
       "<Figure size 648x432 with 1 Axes>"
      ]
     },
     "metadata": {
      "needs_background": "light"
     },
     "output_type": "display_data"
    }
   ],
   "source": [
    "# VIOLIN PLOT\n",
    "\n",
    "plt.figure(figsize=(9, 6))\n",
    "sns.violinplot(data=data, x='Churn', y='MonthlyCharges')\n",
    "plt.title('Monthly Charges by Churn Status')\n",
    "plt.xlabel('Churn')\n",
    "plt.ylabel('Monthly Charges')\n",
    "plt.show()\n",
    "\n",
    "# Violin Plot combines aspects of a box plot and a kernel density plot. It shows central tendency , dispersion and shape of the data distribution. "
   ]
  },
  {
   "cell_type": "markdown",
   "metadata": {},
   "source": [
    "INSIGHT - Customers with higher monthly charges show a slightly higher likelihood of churning, with similar distribution shapes for both churned and non-churned customers."
   ]
  },
  {
   "cell_type": "markdown",
   "metadata": {},
   "source": [
    "Identifying CORRELATIONS"
   ]
  },
  {
   "cell_type": "code",
   "execution_count": 39,
   "metadata": {},
   "outputs": [],
   "source": [
    "correlation_matrix = data[['Age', 'MonthlyCharges', 'Tenure', 'TotalCharges']].corr() \n",
    "#taken all numeric values"
   ]
  },
  {
   "cell_type": "code",
   "execution_count": 40,
   "metadata": {},
   "outputs": [
    {
     "data": {
      "image/png": "[encoded data removed]",
      "text/plain": [
       "<Figure size 432x288 with 2 Axes>"
      ]
     },
     "metadata": {
      "needs_background": "light"
     },
     "output_type": "display_data"
    }
   ],
   "source": [
    "# Plotting the correlation matrix\n",
    "plt.figure(figsize=(6, 4))\n",
    "sns.heatmap(correlation_matrix, annot=True, cmap='magma', center=0) #specifying colour\n",
    "plt.title('Correlation Matrix')\n",
    "plt.show()"
   ]
  },
  {
   "cell_type": "markdown",
   "metadata": {},
   "source": [
    "Heat map is a way to display correlation matrix\n",
    "\n",
    "correlation_matrix: To visualize data in a typically a 2D matrix or DataFrame\n",
    "\n",
    "annot=True: This instructs the heatmap to annotate each cell with the numeric value . It is the correleation coefficient. It displays the numbers directly on the cells, making it easier to interpret the exact values and compare relations between them\n",
    "\n",
    "cmap=viridis: Specifies the color map used to color the cells. Different colors represent different ranges of values\n",
    "\n",
    "center=0: Centers the colormap at zero to emphasize positive and negative correlations "
   ]
  },
  {
   "cell_type": "markdown",
   "metadata": {},
   "source": [
    "INSIGHTS - \n",
    "Age:\n",
    "\n",
    "Correlation with MonthlyCharges: -0.028 (Very weak negative correlation)\n",
    "\n",
    "Correlation with Tenure: -0.026 (Very weak negative correlation)\n",
    "\n",
    "Correlation with TotalCharges: -0.031 (Very weak negative correlation)\n",
    "\n",
    "Analysis: Age has very little correlation with MonthlyCharges, Tenure, or TotalCharges. This indicates that age does not significantly influence how much customers are charged monthly, how long they stay with the company, or the total amount they spend.\n",
    "\n",
    "Monthly Charges:\n",
    "\n",
    "Correlation with Age: -0.028 (Very weak negative correlation)\n",
    "\n",
    "Correlation with Tenure: -0.087 (Weak negative correlation)\n",
    "\n",
    "Correlation with Total Charges: 0.4 (Moderate positive correlation)\n",
    "\n",
    "Analysis: Monthly Charges have a weak negative correlation with Tenure, suggesting that customers who have been with the company longer might pay slightly less on average. The moderate positive correlation with Total Charges indicates that customers who pay higher monthly fees also tend to have higher total charges, which makes sense since total charges accumulate over time with monthly payments.\n",
    "\n",
    "Tenure:\n",
    "\n",
    "Correlation with Age: -0.026 (Very weak negative correlation)\n",
    "\n",
    "Correlation with MonthlyCharges: -0.087 (Weak negative correlation)\n",
    "\n",
    "Correlation with TotalCharges: 0.79 (Strong positive correlation)\n",
    "\n",
    "Analysis: Tenure shows a strong positive correlation with Total Charges, which is expected because customers who have been with the company for a longer time will have accumulated more charges. The weak negative correlation with Monthly Charges suggests that tenure does not significantly affect how much customers are charged on a monthly basis.\n",
    "\n",
    "TotalCharges:\n",
    "\n",
    "Correlation with Age: -0.031 (Very weak negative correlation)\n",
    "\n",
    "Correlation with MonthlyCharges: 0.4 (Moderate positive correlation)\n",
    "\n",
    "Correlation with Tenure: 0.79 (Strong positive correlation)\n",
    "\n",
    "Analysis: Total Charges have a strong positive correlation with Tenure as mentioned. The moderate positive correlation with Monthly Charges implies that customers who pay more monthly also tend to have higher total charges, which aligns with the idea that higher monthly payments result in higher overall spending."
   ]
  },
  {
   "cell_type": "markdown",
   "metadata": {},
   "source": [
    "### 3. Data Preprocessing & 4. Feature Engineering:\n",
    "- Handle missing values (if any) using appropriate techniques.\n",
    "- Encode categorical features into numerical format.\n",
    "- Split the dataset into training, validation, and testing sets.\n",
    "- Consider techniques to handle imbalanced data (if necessary).\n",
    "\n",
    "- Create additional features based on domain knowledge and EDA insights.\n",
    "- Explore feature interactions and transformations."
   ]
  },
  {
   "cell_type": "code",
   "execution_count": 41,
   "metadata": {},
   "outputs": [],
   "source": [
    "# Handle missing values\n",
    "# Importing necessary libraries\n",
    "import pandas as pd  \n",
    "from sklearn.impute import SimpleImputer"
   ]
  },
  {
   "cell_type": "code",
   "execution_count": 42,
   "metadata": {},
   "outputs": [
    {
     "data": {
      "text/plain": [
       "Unnamed: 0                 0\n",
       "CustomerID                 0\n",
       "Age                       79\n",
       "Gender                     0\n",
       "ContractType               0\n",
       "MonthlyCharges             0\n",
       "TotalCharges             151\n",
       "TechSupport                0\n",
       "InternetService           67\n",
       "Tenure                     0\n",
       "PaperlessBilling           0\n",
       "PaymentMethod              0\n",
       "AverageMonthlyCharges      0\n",
       "CustomerLifetimeValue      0\n",
       "Churn                      0\n",
       "dtype: int64"
      ]
     },
     "execution_count": 42,
     "metadata": {},
     "output_type": "execute_result"
    }
   ],
   "source": [
    "# Finding sum of missing values category wise.\n",
    "data.isnull().sum()"
   ]
  },
  {
   "cell_type": "markdown",
   "metadata": {},
   "source": [
    "180 in Age, 286 in Total Charges, 125 in Internet Service"
   ]
  },
  {
   "cell_type": "markdown",
   "metadata": {},
   "source": [
    "Method 1 : Imputing the missing numerical values with mean (includes age and total charges)"
   ]
  },
  {
   "cell_type": "code",
   "execution_count": 43,
   "metadata": {},
   "outputs": [],
   "source": [
    "num_values_impute = SimpleImputer(strategy='mean')\n",
    "data[['Age','TotalCharges']] = num_values_impute.fit_transform(data[['Age','TotalCharges']])\n",
    "#returns dataframe with imputed values"
   ]
  },
  {
   "cell_type": "markdown",
   "metadata": {},
   "source": [
    "Method 2 : Imputing Categorical missing values with Most Frequent Value (in this case , Internet Service missing values are imputed)"
   ]
  },
  {
   "cell_type": "code",
   "execution_count": 44,
   "metadata": {},
   "outputs": [],
   "source": [
    "internetservice_impute = SimpleImputer(strategy='most_frequent')\n",
    "data[['InternetService']] = internetservice_impute.fit_transform(data[['InternetService']])"
   ]
  },
  {
   "cell_type": "markdown",
   "metadata": {},
   "source": [
    "Now,after imputing both numerical and categorical, let's check the sum of null values present."
   ]
  },
  {
   "cell_type": "code",
   "execution_count": 45,
   "metadata": {},
   "outputs": [
    {
     "data": {
      "text/plain": [
       "Unnamed: 0               0\n",
       "CustomerID               0\n",
       "Age                      0\n",
       "Gender                   0\n",
       "ContractType             0\n",
       "MonthlyCharges           0\n",
       "TotalCharges             0\n",
       "TechSupport              0\n",
       "InternetService          0\n",
       "Tenure                   0\n",
       "PaperlessBilling         0\n",
       "PaymentMethod            0\n",
       "AverageMonthlyCharges    0\n",
       "CustomerLifetimeValue    0\n",
       "Churn                    0\n",
       "dtype: int64"
      ]
     },
     "execution_count": 45,
     "metadata": {},
     "output_type": "execute_result"
    }
   ],
   "source": [
    "data.isnull().sum()"
   ]
  },
  {
   "cell_type": "markdown",
   "metadata": {},
   "source": [
    "As, we can see all missing values have been imputed."
   ]
  },
  {
   "cell_type": "code",
   "execution_count": 46,
   "metadata": {},
   "outputs": [
    {
     "data": {
      "text/html": [
       "<div>\n",
       "<style scoped>\n",
       "    .dataframe tbody tr th:only-of-type {\n",
       "        vertical-align: middle;\n",
       "    }\n",
       "\n",
       "    .dataframe tbody tr th {\n",
       "        vertical-align: top;\n",
       "    }\n",
       "\n",
       "    .dataframe thead th {\n",
       "        text-align: right;\n",
       "    }\n",
       "</style>\n",
       "<table border=\"1\" class=\"dataframe\">\n",
       "  <thead>\n",
       "    <tr style=\"text-align: right;\">\n",
       "      <th></th>\n",
       "      <th>Unnamed: 0</th>\n",
       "      <th>CustomerID</th>\n",
       "      <th>Age</th>\n",
       "      <th>Gender</th>\n",
       "      <th>ContractType</th>\n",
       "      <th>MonthlyCharges</th>\n",
       "      <th>TotalCharges</th>\n",
       "      <th>TechSupport</th>\n",
       "      <th>InternetService</th>\n",
       "      <th>Tenure</th>\n",
       "      <th>PaperlessBilling</th>\n",
       "      <th>PaymentMethod</th>\n",
       "      <th>AverageMonthlyCharges</th>\n",
       "      <th>CustomerLifetimeValue</th>\n",
       "      <th>Churn</th>\n",
       "    </tr>\n",
       "  </thead>\n",
       "  <tbody>\n",
       "    <tr>\n",
       "      <th>0</th>\n",
       "      <td>0</td>\n",
       "      <td>4089</td>\n",
       "      <td>43.0</td>\n",
       "      <td>Male</td>\n",
       "      <td>Month-to-month</td>\n",
       "      <td>82.77</td>\n",
       "      <td>1655.37</td>\n",
       "      <td>Yes</td>\n",
       "      <td>No</td>\n",
       "      <td>20</td>\n",
       "      <td>No</td>\n",
       "      <td>Credit card</td>\n",
       "      <td>82.77</td>\n",
       "      <td>1655.37</td>\n",
       "      <td>No</td>\n",
       "    </tr>\n",
       "    <tr>\n",
       "      <th>1</th>\n",
       "      <td>1</td>\n",
       "      <td>2081</td>\n",
       "      <td>41.0</td>\n",
       "      <td>Female</td>\n",
       "      <td>One year</td>\n",
       "      <td>55.05</td>\n",
       "      <td>660.66</td>\n",
       "      <td>No</td>\n",
       "      <td>DSL</td>\n",
       "      <td>12</td>\n",
       "      <td>Yes</td>\n",
       "      <td>Gift Card</td>\n",
       "      <td>55.06</td>\n",
       "      <td>660.66</td>\n",
       "      <td>No</td>\n",
       "    </tr>\n",
       "    <tr>\n",
       "      <th>2</th>\n",
       "      <td>2</td>\n",
       "      <td>42</td>\n",
       "      <td>49.0</td>\n",
       "      <td>Female</td>\n",
       "      <td>Month-to-month</td>\n",
       "      <td>59.15</td>\n",
       "      <td>2188.63</td>\n",
       "      <td>No</td>\n",
       "      <td>DSL</td>\n",
       "      <td>37</td>\n",
       "      <td>No</td>\n",
       "      <td>Buy Now, Pay Later (BNPL)</td>\n",
       "      <td>59.15</td>\n",
       "      <td>2188.63</td>\n",
       "      <td>No</td>\n",
       "    </tr>\n",
       "    <tr>\n",
       "      <th>3</th>\n",
       "      <td>3</td>\n",
       "      <td>797</td>\n",
       "      <td>40.0</td>\n",
       "      <td>Female</td>\n",
       "      <td>Two year</td>\n",
       "      <td>39.41</td>\n",
       "      <td>1891.63</td>\n",
       "      <td>Yes</td>\n",
       "      <td>Fiber optic</td>\n",
       "      <td>48</td>\n",
       "      <td>No</td>\n",
       "      <td>Cryptocurrency</td>\n",
       "      <td>39.41</td>\n",
       "      <td>1891.63</td>\n",
       "      <td>No</td>\n",
       "    </tr>\n",
       "    <tr>\n",
       "      <th>4</th>\n",
       "      <td>4</td>\n",
       "      <td>355</td>\n",
       "      <td>43.0</td>\n",
       "      <td>Female</td>\n",
       "      <td>Month-to-month</td>\n",
       "      <td>53.85</td>\n",
       "      <td>646.21</td>\n",
       "      <td>No</td>\n",
       "      <td>Fiber optic</td>\n",
       "      <td>12</td>\n",
       "      <td>Yes</td>\n",
       "      <td>Mailed check</td>\n",
       "      <td>53.85</td>\n",
       "      <td>646.21</td>\n",
       "      <td>No</td>\n",
       "    </tr>\n",
       "  </tbody>\n",
       "</table>\n",
       "</div>"
      ],
      "text/plain": [
       "   Unnamed: 0  CustomerID   Age  Gender    ContractType  MonthlyCharges  \\\n",
       "0           0        4089  43.0    Male  Month-to-month           82.77   \n",
       "1           1        2081  41.0  Female        One year           55.05   \n",
       "2           2          42  49.0  Female  Month-to-month           59.15   \n",
       "3           3         797  40.0  Female        Two year           39.41   \n",
       "4           4         355  43.0  Female  Month-to-month           53.85   \n",
       "\n",
       "   TotalCharges TechSupport InternetService  Tenure PaperlessBilling  \\\n",
       "0       1655.37         Yes              No      20               No   \n",
       "1        660.66          No             DSL      12              Yes   \n",
       "2       2188.63          No             DSL      37               No   \n",
       "3       1891.63         Yes     Fiber optic      48               No   \n",
       "4        646.21          No     Fiber optic      12              Yes   \n",
       "\n",
       "               PaymentMethod  AverageMonthlyCharges  CustomerLifetimeValue  \\\n",
       "0                Credit card                  82.77                1655.37   \n",
       "1                  Gift Card                  55.06                 660.66   \n",
       "2  Buy Now, Pay Later (BNPL)                  59.15                2188.63   \n",
       "3             Cryptocurrency                  39.41                1891.63   \n",
       "4               Mailed check                  53.85                 646.21   \n",
       "\n",
       "  Churn  \n",
       "0    No  \n",
       "1    No  \n",
       "2    No  \n",
       "3    No  \n",
       "4    No  "
      ]
     },
     "execution_count": 46,
     "metadata": {},
     "output_type": "execute_result"
    }
   ],
   "source": [
    "# Reviewing the data\n",
    "data.head()"
   ]
  },
  {
   "cell_type": "markdown",
   "metadata": {},
   "source": [
    "Now, We can see an extra unwanted column 'UNNAMED'"
   ]
  },
  {
   "cell_type": "code",
   "execution_count": 47,
   "metadata": {},
   "outputs": [],
   "source": [
    "data = data.drop(['Unnamed: 0'], axis = 1)"
   ]
  },
  {
   "cell_type": "code",
   "execution_count": 48,
   "metadata": {},
   "outputs": [
    {
     "name": "stdout",
     "output_type": "stream",
     "text": [
      "<class 'pandas.core.frame.DataFrame'>\n",
      "RangeIndex: 3000 entries, 0 to 2999\n",
      "Data columns (total 14 columns):\n",
      " #   Column                 Non-Null Count  Dtype  \n",
      "---  ------                 --------------  -----  \n",
      " 0   CustomerID             3000 non-null   int64  \n",
      " 1   Age                    3000 non-null   float64\n",
      " 2   Gender                 3000 non-null   object \n",
      " 3   ContractType           3000 non-null   object \n",
      " 4   MonthlyCharges         3000 non-null   float64\n",
      " 5   TotalCharges           3000 non-null   float64\n",
      " 6   TechSupport            3000 non-null   object \n",
      " 7   InternetService        3000 non-null   object \n",
      " 8   Tenure                 3000 non-null   int64  \n",
      " 9   PaperlessBilling       3000 non-null   object \n",
      " 10  PaymentMethod          3000 non-null   object \n",
      " 11  AverageMonthlyCharges  3000 non-null   float64\n",
      " 12  CustomerLifetimeValue  3000 non-null   float64\n",
      " 13  Churn                  3000 non-null   object \n",
      "dtypes: float64(5), int64(2), object(7)\n",
      "memory usage: 328.2+ KB\n"
     ]
    }
   ],
   "source": [
    "# Checking the number of catogorical columns and numerical columns\n",
    "data.info()"
   ]
  },
  {
   "cell_type": "markdown",
   "metadata": {},
   "source": [
    "To use catogorical features in out model we can to encode Categorical Features into Numerical"
   ]
  },
  {
   "cell_type": "code",
   "execution_count": 49,
   "metadata": {},
   "outputs": [],
   "source": [
    "# All categorical columns\n",
    "Categorical_columns = [\"Gender\",'ContractType','TechSupport','InternetService','PaperlessBilling','PaymentMethod','Churn']"
   ]
  },
  {
   "cell_type": "code",
   "execution_count": 50,
   "metadata": {},
   "outputs": [],
   "source": [
    "# Import necessary library for encoding\n",
    "from sklearn.preprocessing import LabelEncoder"
   ]
  },
  {
   "cell_type": "code",
   "execution_count": 51,
   "metadata": {},
   "outputs": [],
   "source": [
    "# Encoding churn column with label encoding\n",
    "for col in Categorical_columns :\n",
    "    le = LabelEncoder()\n",
    "    data[col] = le.fit_transform(data[col]) "
   ]
  },
  {
   "cell_type": "code",
   "execution_count": 52,
   "metadata": {},
   "outputs": [
    {
     "data": {
      "text/html": [
       "<div>\n",
       "<style scoped>\n",
       "    .dataframe tbody tr th:only-of-type {\n",
       "        vertical-align: middle;\n",
       "    }\n",
       "\n",
       "    .dataframe tbody tr th {\n",
       "        vertical-align: top;\n",
       "    }\n",
       "\n",
       "    .dataframe thead th {\n",
       "        text-align: right;\n",
       "    }\n",
       "</style>\n",
       "<table border=\"1\" class=\"dataframe\">\n",
       "  <thead>\n",
       "    <tr style=\"text-align: right;\">\n",
       "      <th></th>\n",
       "      <th>CustomerID</th>\n",
       "      <th>Age</th>\n",
       "      <th>Gender</th>\n",
       "      <th>ContractType</th>\n",
       "      <th>MonthlyCharges</th>\n",
       "      <th>TotalCharges</th>\n",
       "      <th>TechSupport</th>\n",
       "      <th>InternetService</th>\n",
       "      <th>Tenure</th>\n",
       "      <th>PaperlessBilling</th>\n",
       "      <th>PaymentMethod</th>\n",
       "      <th>AverageMonthlyCharges</th>\n",
       "      <th>CustomerLifetimeValue</th>\n",
       "      <th>Churn</th>\n",
       "    </tr>\n",
       "  </thead>\n",
       "  <tbody>\n",
       "    <tr>\n",
       "      <th>0</th>\n",
       "      <td>4089</td>\n",
       "      <td>43.0</td>\n",
       "      <td>1</td>\n",
       "      <td>0</td>\n",
       "      <td>82.77</td>\n",
       "      <td>1655.37</td>\n",
       "      <td>1</td>\n",
       "      <td>2</td>\n",
       "      <td>20</td>\n",
       "      <td>0</td>\n",
       "      <td>4</td>\n",
       "      <td>82.77</td>\n",
       "      <td>1655.37</td>\n",
       "      <td>0</td>\n",
       "    </tr>\n",
       "    <tr>\n",
       "      <th>1</th>\n",
       "      <td>2081</td>\n",
       "      <td>41.0</td>\n",
       "      <td>0</td>\n",
       "      <td>1</td>\n",
       "      <td>55.05</td>\n",
       "      <td>660.66</td>\n",
       "      <td>0</td>\n",
       "      <td>0</td>\n",
       "      <td>12</td>\n",
       "      <td>1</td>\n",
       "      <td>7</td>\n",
       "      <td>55.06</td>\n",
       "      <td>660.66</td>\n",
       "      <td>0</td>\n",
       "    </tr>\n",
       "    <tr>\n",
       "      <th>2</th>\n",
       "      <td>42</td>\n",
       "      <td>49.0</td>\n",
       "      <td>0</td>\n",
       "      <td>0</td>\n",
       "      <td>59.15</td>\n",
       "      <td>2188.63</td>\n",
       "      <td>0</td>\n",
       "      <td>0</td>\n",
       "      <td>37</td>\n",
       "      <td>0</td>\n",
       "      <td>2</td>\n",
       "      <td>59.15</td>\n",
       "      <td>2188.63</td>\n",
       "      <td>0</td>\n",
       "    </tr>\n",
       "    <tr>\n",
       "      <th>3</th>\n",
       "      <td>797</td>\n",
       "      <td>40.0</td>\n",
       "      <td>0</td>\n",
       "      <td>2</td>\n",
       "      <td>39.41</td>\n",
       "      <td>1891.63</td>\n",
       "      <td>1</td>\n",
       "      <td>1</td>\n",
       "      <td>48</td>\n",
       "      <td>0</td>\n",
       "      <td>5</td>\n",
       "      <td>39.41</td>\n",
       "      <td>1891.63</td>\n",
       "      <td>0</td>\n",
       "    </tr>\n",
       "    <tr>\n",
       "      <th>4</th>\n",
       "      <td>355</td>\n",
       "      <td>43.0</td>\n",
       "      <td>0</td>\n",
       "      <td>0</td>\n",
       "      <td>53.85</td>\n",
       "      <td>646.21</td>\n",
       "      <td>0</td>\n",
       "      <td>1</td>\n",
       "      <td>12</td>\n",
       "      <td>1</td>\n",
       "      <td>9</td>\n",
       "      <td>53.85</td>\n",
       "      <td>646.21</td>\n",
       "      <td>0</td>\n",
       "    </tr>\n",
       "  </tbody>\n",
       "</table>\n",
       "</div>"
      ],
      "text/plain": [
       "   CustomerID   Age  Gender  ContractType  MonthlyCharges  TotalCharges  \\\n",
       "0        4089  43.0       1             0           82.77       1655.37   \n",
       "1        2081  41.0       0             1           55.05        660.66   \n",
       "2          42  49.0       0             0           59.15       2188.63   \n",
       "3         797  40.0       0             2           39.41       1891.63   \n",
       "4         355  43.0       0             0           53.85        646.21   \n",
       "\n",
       "   TechSupport  InternetService  Tenure  PaperlessBilling  PaymentMethod  \\\n",
       "0            1                2      20                 0              4   \n",
       "1            0                0      12                 1              7   \n",
       "2            0                0      37                 0              2   \n",
       "3            1                1      48                 0              5   \n",
       "4            0                1      12                 1              9   \n",
       "\n",
       "   AverageMonthlyCharges  CustomerLifetimeValue  Churn  \n",
       "0                  82.77                1655.37      0  \n",
       "1                  55.06                 660.66      0  \n",
       "2                  59.15                2188.63      0  \n",
       "3                  39.41                1891.63      0  \n",
       "4                  53.85                 646.21      0  "
      ]
     },
     "execution_count": 52,
     "metadata": {},
     "output_type": "execute_result"
    }
   ],
   "source": [
    "# Reviewing the encoded data\n",
    "data.head()"
   ]
  },
  {
   "cell_type": "markdown",
   "metadata": {},
   "source": [
    "Hence, now the categoricals are converted into numerical format."
   ]
  },
  {
   "cell_type": "markdown",
   "metadata": {},
   "source": [
    "In our dataset, we have \"CUSTOMER_ID\" feature, which doesn't play a major role in determining if an employee is going to churn or not, so we will drop this column as well"
   ]
  },
  {
   "cell_type": "code",
   "execution_count": 53,
   "metadata": {},
   "outputs": [],
   "source": [
    "# Dropping the 'Customer_ID' column\n",
    "data = data.drop(['CustomerID'], axis = 1)"
   ]
  },
  {
   "cell_type": "code",
   "execution_count": 54,
   "metadata": {},
   "outputs": [
    {
     "data": {
      "text/html": [
       "<div>\n",
       "<style scoped>\n",
       "    .dataframe tbody tr th:only-of-type {\n",
       "        vertical-align: middle;\n",
       "    }\n",
       "\n",
       "    .dataframe tbody tr th {\n",
       "        vertical-align: top;\n",
       "    }\n",
       "\n",
       "    .dataframe thead th {\n",
       "        text-align: right;\n",
       "    }\n",
       "</style>\n",
       "<table border=\"1\" class=\"dataframe\">\n",
       "  <thead>\n",
       "    <tr style=\"text-align: right;\">\n",
       "      <th></th>\n",
       "      <th>Age</th>\n",
       "      <th>Gender</th>\n",
       "      <th>ContractType</th>\n",
       "      <th>MonthlyCharges</th>\n",
       "      <th>TotalCharges</th>\n",
       "      <th>TechSupport</th>\n",
       "      <th>InternetService</th>\n",
       "      <th>Tenure</th>\n",
       "      <th>PaperlessBilling</th>\n",
       "      <th>PaymentMethod</th>\n",
       "      <th>AverageMonthlyCharges</th>\n",
       "      <th>CustomerLifetimeValue</th>\n",
       "      <th>Churn</th>\n",
       "    </tr>\n",
       "  </thead>\n",
       "  <tbody>\n",
       "    <tr>\n",
       "      <th>0</th>\n",
       "      <td>43.0</td>\n",
       "      <td>1</td>\n",
       "      <td>0</td>\n",
       "      <td>82.77</td>\n",
       "      <td>1655.37</td>\n",
       "      <td>1</td>\n",
       "      <td>2</td>\n",
       "      <td>20</td>\n",
       "      <td>0</td>\n",
       "      <td>4</td>\n",
       "      <td>82.77</td>\n",
       "      <td>1655.37</td>\n",
       "      <td>0</td>\n",
       "    </tr>\n",
       "    <tr>\n",
       "      <th>1</th>\n",
       "      <td>41.0</td>\n",
       "      <td>0</td>\n",
       "      <td>1</td>\n",
       "      <td>55.05</td>\n",
       "      <td>660.66</td>\n",
       "      <td>0</td>\n",
       "      <td>0</td>\n",
       "      <td>12</td>\n",
       "      <td>1</td>\n",
       "      <td>7</td>\n",
       "      <td>55.06</td>\n",
       "      <td>660.66</td>\n",
       "      <td>0</td>\n",
       "    </tr>\n",
       "    <tr>\n",
       "      <th>2</th>\n",
       "      <td>49.0</td>\n",
       "      <td>0</td>\n",
       "      <td>0</td>\n",
       "      <td>59.15</td>\n",
       "      <td>2188.63</td>\n",
       "      <td>0</td>\n",
       "      <td>0</td>\n",
       "      <td>37</td>\n",
       "      <td>0</td>\n",
       "      <td>2</td>\n",
       "      <td>59.15</td>\n",
       "      <td>2188.63</td>\n",
       "      <td>0</td>\n",
       "    </tr>\n",
       "    <tr>\n",
       "      <th>3</th>\n",
       "      <td>40.0</td>\n",
       "      <td>0</td>\n",
       "      <td>2</td>\n",
       "      <td>39.41</td>\n",
       "      <td>1891.63</td>\n",
       "      <td>1</td>\n",
       "      <td>1</td>\n",
       "      <td>48</td>\n",
       "      <td>0</td>\n",
       "      <td>5</td>\n",
       "      <td>39.41</td>\n",
       "      <td>1891.63</td>\n",
       "      <td>0</td>\n",
       "    </tr>\n",
       "    <tr>\n",
       "      <th>4</th>\n",
       "      <td>43.0</td>\n",
       "      <td>0</td>\n",
       "      <td>0</td>\n",
       "      <td>53.85</td>\n",
       "      <td>646.21</td>\n",
       "      <td>0</td>\n",
       "      <td>1</td>\n",
       "      <td>12</td>\n",
       "      <td>1</td>\n",
       "      <td>9</td>\n",
       "      <td>53.85</td>\n",
       "      <td>646.21</td>\n",
       "      <td>0</td>\n",
       "    </tr>\n",
       "  </tbody>\n",
       "</table>\n",
       "</div>"
      ],
      "text/plain": [
       "    Age  Gender  ContractType  MonthlyCharges  TotalCharges  TechSupport  \\\n",
       "0  43.0       1             0           82.77       1655.37            1   \n",
       "1  41.0       0             1           55.05        660.66            0   \n",
       "2  49.0       0             0           59.15       2188.63            0   \n",
       "3  40.0       0             2           39.41       1891.63            1   \n",
       "4  43.0       0             0           53.85        646.21            0   \n",
       "\n",
       "   InternetService  Tenure  PaperlessBilling  PaymentMethod  \\\n",
       "0                2      20                 0              4   \n",
       "1                0      12                 1              7   \n",
       "2                0      37                 0              2   \n",
       "3                1      48                 0              5   \n",
       "4                1      12                 1              9   \n",
       "\n",
       "   AverageMonthlyCharges  CustomerLifetimeValue  Churn  \n",
       "0                  82.77                1655.37      0  \n",
       "1                  55.06                 660.66      0  \n",
       "2                  59.15                2188.63      0  \n",
       "3                  39.41                1891.63      0  \n",
       "4                  53.85                 646.21      0  "
      ]
     },
     "execution_count": 54,
     "metadata": {},
     "output_type": "execute_result"
    }
   ],
   "source": [
    "# Reviewing the data\n",
    "data.head()"
   ]
  },
  {
   "cell_type": "markdown",
   "metadata": {},
   "source": [
    "#### Split the Dataset into Training, Validation, and Testing Sets"
   ]
  },
  {
   "cell_type": "markdown",
   "metadata": {},
   "source": [
    "Defining Features or the input variables used to make predictions under X.\n",
    "\n",
    "The Target variable i.e 'churn' which the model will predict is the output variable. This is labelled under y"
   ]
  },
  {
   "cell_type": "code",
   "execution_count": 55,
   "metadata": {},
   "outputs": [],
   "source": [
    "X = data.drop('Churn', axis = 1) \n",
    "# axis = 1 specifies churn is a column and not a row.\n",
    "#for row we use, axis = 0\n",
    "\n",
    "y = data['Churn']"
   ]
  },
  {
   "cell_type": "markdown",
   "metadata": {},
   "source": [
    "Splitting into Training and Test Sets"
   ]
  },
  {
   "cell_type": "code",
   "execution_count": 56,
   "metadata": {},
   "outputs": [],
   "source": [
    "from sklearn.model_selection import train_test_split\n",
    "\n",
    "X_train , X_test, y_train, y_test = train_test_split(X, y, test_size = 0.3, random_state = 40)"
   ]
  },
  {
   "cell_type": "markdown",
   "metadata": {},
   "source": [
    "Hence , dataset is split into \n",
    "1. training set which is 70 percent of dataset. \n",
    "2. test which has 30 percent of dataset\n",
    "\n",
    "random_state is kept same so that every time same random split is reproduced."
   ]
  },
  {
   "cell_type": "code",
   "execution_count": 57,
   "metadata": {},
   "outputs": [
    {
     "name": "stdout",
     "output_type": "stream",
     "text": [
      "Training set size: 2100\n",
      "Test set size: 900\n"
     ]
    }
   ],
   "source": [
    "print(f'Training set size: {X_train.shape[0]}')\n",
    "print(f'Test set size: {X_test.shape[0]}')\n",
    "# this shows us the distributed values."
   ]
  },
  {
   "cell_type": "code",
   "execution_count": 58,
   "metadata": {},
   "outputs": [
    {
     "name": "stdout",
     "output_type": "stream",
     "text": [
      "Churn\n",
      "0    2388\n",
      "1     612\n",
      "Name: count, dtype: int64\n"
     ]
    }
   ],
   "source": [
    "Churn_count = data['Churn'].value_counts()\n",
    "print(Churn_count)"
   ]
  },
  {
   "cell_type": "markdown",
   "metadata": {},
   "source": [
    "Since the data is highly imbalanced in Churn feature.\n",
    "\n",
    "Handling imbalanced data is crucial when building machine learning models, as it ensures that the model doesn't become biased towards the majority class and maintains good predictive performance for the minority class.\n",
    "\n",
    "TECHNIQUE TO OVERCOME IMBALANCE : INCREASE MINORTY TO BALANCE DATASET USIN SMOTE TECHNIQUE"
   ]
  },
  {
   "cell_type": "code",
   "execution_count": 59,
   "metadata": {},
   "outputs": [],
   "source": [
    "#importing SMOTE\n",
    "from imblearn.over_sampling import SMOTE"
   ]
  },
  {
   "cell_type": "markdown",
   "metadata": {},
   "source": [
    "imblearn (imbalanced-learn) is a Python package that provides tools for dealing with imbalanced datasets. One of its key features is SMOTE (Synthetic Minority Over-sampling Technique), which is used to balance datasets by generating synthetic samples for the minority class."
   ]
  },
  {
   "cell_type": "code",
   "execution_count": 60,
   "metadata": {},
   "outputs": [
    {
     "name": "stdout",
     "output_type": "stream",
     "text": [
      "Churn\n",
      "0    1673\n",
      "1    1673\n",
      "Name: count, dtype: int64\n"
     ]
    }
   ],
   "source": [
    "smote = SMOTE(random_state = 40)\n",
    "X_train , y_train = smote.fit_resample(X_train,y_train)\n",
    "print(pd.Series(y_train).value_counts())"
   ]
  },
  {
   "cell_type": "markdown",
   "metadata": {},
   "source": [
    "Now, the training data balanced and we can use it for model training"
   ]
  },
  {
   "cell_type": "markdown",
   "metadata": {},
   "source": [
    "### 5. Model Building:\n",
    "- Experiment with various classification algorithms (Logistic Regression, Random Forest, Gradient Boosting, XGBoost, etc.).\n",
    "- Optimize model hyperparameters using techniques like Grid Search or Randomized Search.\n",
    "- Evaluate model performance using metrics like accuracy, precision, recall, F1-score, ROC curve, AUC.\n",
    "- Consider ensemble methods for improved performance."
   ]
  },
  {
   "cell_type": "code",
   "execution_count": 61,
   "metadata": {},
   "outputs": [],
   "source": [
    "# Import necessary libraries\n",
    "from sklearn.model_selection import train_test_split, GridSearchCV, RandomizedSearchCV\n",
    "from sklearn.preprocessing import StandardScaler\n",
    "from sklearn.linear_model import LogisticRegression\n",
    "from sklearn.ensemble import RandomForestClassifier, GradientBoostingClassifier\n",
    "from xgboost import XGBClassifier\n",
    "from sklearn.metrics import accuracy_score, precision_score, recall_score, f1_score, roc_auc_score, confusion_matrix, roc_curve, auc\n",
    "import matplotlib.pyplot as plt"
   ]
  },
  {
   "cell_type": "code",
   "execution_count": 62,
   "metadata": {},
   "outputs": [],
   "source": [
    "# Define the models to be tested\n",
    "models = {\n",
    "    'Logistic Regression' : LogisticRegression(),\n",
    "    'Random Forest' : RandomForestClassifier(),\n",
    "    'Gradient Boosting' : GradientBoostingClassifier(),\n",
    "    'XGBoost' : XGBClassifier()\n",
    "}"
   ]
  },
  {
   "cell_type": "markdown",
   "metadata": {},
   "source": [
    "#### Before the model building we need to normalize out training and test sets which will be done using Stadard Scaling\n",
    "Standard scaling ensures all features have the same scale, improving model performance and preventing any one feature from dominating due to its range."
   ]
  },
  {
   "cell_type": "code",
   "execution_count": 63,
   "metadata": {},
   "outputs": [],
   "source": [
    "from sklearn.preprocessing import StandardScaler\n",
    "\n",
    "scaler = StandardScaler()\n",
    "X_train = scaler.fit_transform(X_train)\n",
    "X_test = scaler.transform(X_test)"
   ]
  },
  {
   "cell_type": "code",
   "execution_count": 64,
   "metadata": {},
   "outputs": [],
   "source": [
    "# Initializing a dictionary to store model performance \n",
    "model_performance = {}"
   ]
  },
  {
   "cell_type": "code",
   "execution_count": 65,
   "metadata": {},
   "outputs": [],
   "source": [
    "# Iterate over models to train and evaluate\n",
    "for name, model in models.items():\n",
    "    # Train the model\n",
    "\n",
    "    model.fit(X_train, y_train)\n",
    "\n",
    "    # Predict on test set\n",
    "    y_pred = model.predict(X_test)\n",
    "\n",
    "    #Evaluating model perfomance \n",
    "    accuracy = accuracy_score(y_test,y_pred)\n",
    "    precision = precision_score(y_test,y_pred)\n",
    "    recall = recall_score(y_test,y_pred)\n",
    "    f1 = f1_score(y_test,y_pred)\n",
    "    auc_score = roc_auc_score(y_test,y_pred)\n",
    "\n",
    "    #store performance\n",
    "    model_performance[name] = {\n",
    "        'Accuracy' :accuracy,\n",
    "        'Precision': precision,\n",
    "        'Recall' : recall,\n",
    "        'F1 Score': f1,\n",
    "        'AUC' : auc_score\n",
    "    }"
   ]
  },
  {
   "cell_type": "code",
   "execution_count": 66,
   "metadata": {},
   "outputs": [
    {
     "data": {
      "text/html": [
       "<div>\n",
       "<style scoped>\n",
       "    .dataframe tbody tr th:only-of-type {\n",
       "        vertical-align: middle;\n",
       "    }\n",
       "\n",
       "    .dataframe tbody tr th {\n",
       "        vertical-align: top;\n",
       "    }\n",
       "\n",
       "    .dataframe thead th {\n",
       "        text-align: right;\n",
       "    }\n",
       "</style>\n",
       "<table border=\"1\" class=\"dataframe\">\n",
       "  <thead>\n",
       "    <tr style=\"text-align: right;\">\n",
       "      <th></th>\n",
       "      <th>Accuracy</th>\n",
       "      <th>Precision</th>\n",
       "      <th>Recall</th>\n",
       "      <th>F1 Score</th>\n",
       "      <th>AUC</th>\n",
       "    </tr>\n",
       "  </thead>\n",
       "  <tbody>\n",
       "    <tr>\n",
       "      <th>Logistic Regression</th>\n",
       "      <td>0.947778</td>\n",
       "      <td>0.855670</td>\n",
       "      <td>0.897297</td>\n",
       "      <td>0.875989</td>\n",
       "      <td>0.929068</td>\n",
       "    </tr>\n",
       "    <tr>\n",
       "      <th>Random Forest</th>\n",
       "      <td>0.935556</td>\n",
       "      <td>0.915033</td>\n",
       "      <td>0.756757</td>\n",
       "      <td>0.828402</td>\n",
       "      <td>0.869287</td>\n",
       "    </tr>\n",
       "    <tr>\n",
       "      <th>Gradient Boosting</th>\n",
       "      <td>0.974444</td>\n",
       "      <td>0.940217</td>\n",
       "      <td>0.935135</td>\n",
       "      <td>0.937669</td>\n",
       "      <td>0.959875</td>\n",
       "    </tr>\n",
       "    <tr>\n",
       "      <th>XGBoost</th>\n",
       "      <td>0.990000</td>\n",
       "      <td>0.978261</td>\n",
       "      <td>0.972973</td>\n",
       "      <td>0.975610</td>\n",
       "      <td>0.983689</td>\n",
       "    </tr>\n",
       "  </tbody>\n",
       "</table>\n",
       "</div>"
      ],
      "text/plain": [
       "                     Accuracy  Precision    Recall  F1 Score       AUC\n",
       "Logistic Regression  0.947778   0.855670  0.897297  0.875989  0.929068\n",
       "Random Forest        0.935556   0.915033  0.756757  0.828402  0.869287\n",
       "Gradient Boosting    0.974444   0.940217  0.935135  0.937669  0.959875\n",
       "XGBoost              0.990000   0.978261  0.972973  0.975610  0.983689"
      ]
     },
     "execution_count": 66,
     "metadata": {},
     "output_type": "execute_result"
    }
   ],
   "source": [
    "# Displaying model performance\n",
    "performance_display = pd.DataFrame(model_performance).T\n",
    "performance_display"
   ]
  },
  {
   "cell_type": "markdown",
   "metadata": {},
   "source": [
    "As we can see, we are getting best accuracy,precision and recall with XGBoost CLassifier , hence we will perform Hyper parameter tuning for XGBoost."
   ]
  },
  {
   "cell_type": "code",
   "execution_count": 67,
   "metadata": {},
   "outputs": [],
   "source": [
    "#Define the XGBoost model\n",
    "xgboost_model = XGBClassifier()"
   ]
  },
  {
   "cell_type": "code",
   "execution_count": 68,
   "metadata": {},
   "outputs": [],
   "source": [
    "# Define the hyperparameter grid \n",
    "\n",
    "param_dist = {\n",
    "    'n_estimators': [100, 200, 300],\n",
    "    'max_depth': [3, 5, 7],\n",
    "    'learning_rate': [0.01, 0.1, 0.2],\n",
    "    'subsample': [0.7, 0.8, 0.9],\n",
    "    'gamma': [0, 0.1, 0.2]\n",
    "}"
   ]
  },
  {
   "cell_type": "code",
   "execution_count": 69,
   "metadata": {},
   "outputs": [
    {
     "name": "stdout",
     "output_type": "stream",
     "text": [
      "Fitting 3 folds for each of 100 candidates, totalling 300 fits\n",
      "[CV] END gamma=0, learning_rate=0.01, max_depth=7, n_estimators=300, subsample=0.7; total time=   0.1s\n",
      "[CV] END gamma=0, learning_rate=0.01, max_depth=7, n_estimators=300, subsample=0.7; total time=   0.1s\n",
      "[CV] END gamma=0, learning_rate=0.01, max_depth=7, n_estimators=300, subsample=0.7; total time=   0.1s\n",
      "[CV] END gamma=0, learning_rate=0.01, max_depth=3, n_estimators=300, subsample=0.7; total time=   0.0s\n",
      "[CV] END gamma=0, learning_rate=0.01, max_depth=3, n_estimators=300, subsample=0.7; total time=   0.0s\n",
      "[CV] END gamma=0, learning_rate=0.01, max_depth=3, n_estimators=300, subsample=0.7; total time=   0.0s\n",
      "[CV] END gamma=0.1, learning_rate=0.2, max_depth=5, n_estimators=300, subsample=0.9; total time=   0.0s\n",
      "[CV] END gamma=0.1, learning_rate=0.2, max_depth=5, n_estimators=300, subsample=0.9; total time=   0.0s\n",
      "[CV] END gamma=0.1, learning_rate=0.2, max_depth=5, n_estimators=300, subsample=0.9; total time=   0.0s\n",
      "[CV] END gamma=0.2, learning_rate=0.2, max_depth=5, n_estimators=300, subsample=0.8; total time=   0.0s\n",
      "[CV] END gamma=0.2, learning_rate=0.2, max_depth=5, n_estimators=300, subsample=0.8; total time=   0.0s\n",
      "[CV] END gamma=0.2, learning_rate=0.2, max_depth=5, n_estimators=300, subsample=0.8; total time=   0.0s\n",
      "[CV] END gamma=0.2, learning_rate=0.2, max_depth=7, n_estimators=200, subsample=0.8; total time=   0.0s\n",
      "[CV] END gamma=0.2, learning_rate=0.2, max_depth=7, n_estimators=200, subsample=0.8; total time=   0.0s\n",
      "[CV] END gamma=0.2, learning_rate=0.2, max_depth=7, n_estimators=200, subsample=0.8; total time=   0.0s\n",
      "[CV] END gamma=0.2, learning_rate=0.01, max_depth=5, n_estimators=200, subsample=0.8; total time=   0.0s\n",
      "[CV] END gamma=0.2, learning_rate=0.01, max_depth=5, n_estimators=200, subsample=0.8; total time=   0.0s\n",
      "[CV] END gamma=0.2, learning_rate=0.01, max_depth=5, n_estimators=200, subsample=0.8; total time=   0.0s\n",
      "[CV] END gamma=0.2, learning_rate=0.1, max_depth=7, n_estimators=300, subsample=0.9; total time=   0.0s\n",
      "[CV] END gamma=0.2, learning_rate=0.1, max_depth=7, n_estimators=300, subsample=0.9; total time=   0.0s\n",
      "[CV] END gamma=0.2, learning_rate=0.1, max_depth=7, n_estimators=300, subsample=0.9; total time=   0.0s\n",
      "[CV] END gamma=0.1, learning_rate=0.2, max_depth=5, n_estimators=300, subsample=0.7; total time=   0.0s\n",
      "[CV] END gamma=0.1, learning_rate=0.2, max_depth=5, n_estimators=300, subsample=0.7; total time=   0.0s\n",
      "[CV] END gamma=0.1, learning_rate=0.2, max_depth=5, n_estimators=300, subsample=0.7; total time=   0.0s\n",
      "[CV] END gamma=0, learning_rate=0.01, max_depth=5, n_estimators=100, subsample=0.7; total time=   0.0s\n",
      "[CV] END gamma=0, learning_rate=0.01, max_depth=5, n_estimators=100, subsample=0.7; total time=   0.0s\n",
      "[CV] END gamma=0, learning_rate=0.01, max_depth=5, n_estimators=100, subsample=0.7; total time=   0.0s\n",
      "[CV] END gamma=0.1, learning_rate=0.1, max_depth=3, n_estimators=200, subsample=0.9; total time=   0.0s\n",
      "[CV] END gamma=0.1, learning_rate=0.1, max_depth=3, n_estimators=200, subsample=0.9; total time=   0.0s\n",
      "[CV] END gamma=0.1, learning_rate=0.1, max_depth=3, n_estimators=200, subsample=0.9; total time=   0.0s\n",
      "[CV] END gamma=0, learning_rate=0.1, max_depth=7, n_estimators=100, subsample=0.7; total time=   0.0s\n",
      "[CV] END gamma=0, learning_rate=0.1, max_depth=7, n_estimators=100, subsample=0.7; total time=   0.0s\n",
      "[CV] END gamma=0, learning_rate=0.1, max_depth=7, n_estimators=100, subsample=0.7; total time=   0.0s\n",
      "[CV] END gamma=0.2, learning_rate=0.1, max_depth=7, n_estimators=100, subsample=0.9; total time=   0.0s\n",
      "[CV] END gamma=0.2, learning_rate=0.1, max_depth=7, n_estimators=100, subsample=0.9; total time=   0.0s\n",
      "[CV] END gamma=0.2, learning_rate=0.1, max_depth=7, n_estimators=100, subsample=0.9; total time=   0.0s\n",
      "[CV] END gamma=0.2, learning_rate=0.2, max_depth=5, n_estimators=100, subsample=0.9; total time=   0.0s\n",
      "[CV] END gamma=0.2, learning_rate=0.2, max_depth=5, n_estimators=100, subsample=0.9; total time=   0.0s\n",
      "[CV] END gamma=0.2, learning_rate=0.2, max_depth=5, n_estimators=100, subsample=0.9; total time=   0.0s\n",
      "[CV] END gamma=0.2, learning_rate=0.01, max_depth=3, n_estimators=300, subsample=0.9; total time=   0.0s\n",
      "[CV] END gamma=0.2, learning_rate=0.01, max_depth=3, n_estimators=300, subsample=0.9; total time=   0.0s\n",
      "[CV] END gamma=0.2, learning_rate=0.01, max_depth=3, n_estimators=300, subsample=0.9; total time=   0.0s\n",
      "[CV] END gamma=0.1, learning_rate=0.01, max_depth=3, n_estimators=100, subsample=0.8; total time=   0.0s\n",
      "[CV] END gamma=0.1, learning_rate=0.01, max_depth=3, n_estimators=100, subsample=0.8; total time=   0.0s\n",
      "[CV] END gamma=0.1, learning_rate=0.01, max_depth=3, n_estimators=100, subsample=0.8; total time=   0.0s\n",
      "[CV] END gamma=0.1, learning_rate=0.2, max_depth=7, n_estimators=300, subsample=0.9; total time=   0.0s\n",
      "[CV] END gamma=0.1, learning_rate=0.2, max_depth=7, n_estimators=300, subsample=0.9; total time=   0.0s\n",
      "[CV] END gamma=0.1, learning_rate=0.2, max_depth=7, n_estimators=300, subsample=0.9; total time=   0.0s\n",
      "[CV] END gamma=0.2, learning_rate=0.2, max_depth=7, n_estimators=100, subsample=0.9; total time=   0.0s\n",
      "[CV] END gamma=0.2, learning_rate=0.2, max_depth=7, n_estimators=100, subsample=0.9; total time=   0.0s\n",
      "[CV] END gamma=0.2, learning_rate=0.2, max_depth=7, n_estimators=100, subsample=0.9; total time=   0.0s\n",
      "[CV] END gamma=0, learning_rate=0.01, max_depth=5, n_estimators=300, subsample=0.7; total time=   0.1s\n",
      "[CV] END gamma=0, learning_rate=0.01, max_depth=5, n_estimators=300, subsample=0.7; total time=   0.0s\n",
      "[CV] END gamma=0, learning_rate=0.01, max_depth=5, n_estimators=300, subsample=0.7; total time=   0.0s\n",
      "[CV] END gamma=0, learning_rate=0.2, max_depth=5, n_estimators=200, subsample=0.7; total time=   0.0s\n",
      "[CV] END gamma=0, learning_rate=0.2, max_depth=5, n_estimators=200, subsample=0.7; total time=   0.0s\n",
      "[CV] END gamma=0, learning_rate=0.2, max_depth=5, n_estimators=200, subsample=0.7; total time=   0.0s\n",
      "[CV] END gamma=0.1, learning_rate=0.1, max_depth=7, n_estimators=100, subsample=0.8; total time=   0.0s\n",
      "[CV] END gamma=0.1, learning_rate=0.1, max_depth=7, n_estimators=100, subsample=0.8; total time=   0.0s\n",
      "[CV] END gamma=0.1, learning_rate=0.1, max_depth=7, n_estimators=100, subsample=0.8; total time=   0.0s\n",
      "[CV] END gamma=0, learning_rate=0.1, max_depth=3, n_estimators=300, subsample=0.7; total time=   0.0s\n",
      "[CV] END gamma=0, learning_rate=0.1, max_depth=3, n_estimators=300, subsample=0.7; total time=   0.0s\n",
      "[CV] END gamma=0, learning_rate=0.1, max_depth=3, n_estimators=300, subsample=0.7; total time=   0.0s\n",
      "[CV] END gamma=0, learning_rate=0.01, max_depth=7, n_estimators=100, subsample=0.8; total time=   0.0s\n",
      "[CV] END gamma=0, learning_rate=0.01, max_depth=7, n_estimators=100, subsample=0.8; total time=   0.0s\n",
      "[CV] END gamma=0, learning_rate=0.01, max_depth=7, n_estimators=100, subsample=0.8; total time=   0.0s\n",
      "[CV] END gamma=0.1, learning_rate=0.1, max_depth=3, n_estimators=100, subsample=0.7; total time=   0.0s\n",
      "[CV] END gamma=0.1, learning_rate=0.1, max_depth=3, n_estimators=100, subsample=0.7; total time=   0.0s\n",
      "[CV] END gamma=0.1, learning_rate=0.1, max_depth=3, n_estimators=100, subsample=0.7; total time=   0.0s\n",
      "[CV] END gamma=0, learning_rate=0.1, max_depth=3, n_estimators=200, subsample=0.7; total time=   0.0s\n",
      "[CV] END gamma=0, learning_rate=0.1, max_depth=3, n_estimators=200, subsample=0.7; total time=   0.0s\n",
      "[CV] END gamma=0, learning_rate=0.1, max_depth=3, n_estimators=200, subsample=0.7; total time=   0.0s\n",
      "[CV] END gamma=0.2, learning_rate=0.01, max_depth=7, n_estimators=200, subsample=0.9; total time=   0.0s\n",
      "[CV] END gamma=0.2, learning_rate=0.01, max_depth=7, n_estimators=200, subsample=0.9; total time=   0.0s\n",
      "[CV] END gamma=0.2, learning_rate=0.01, max_depth=7, n_estimators=200, subsample=0.9; total time=   0.0s\n",
      "[CV] END gamma=0.2, learning_rate=0.01, max_depth=3, n_estimators=100, subsample=0.9; total time=   0.0s\n",
      "[CV] END gamma=0.2, learning_rate=0.01, max_depth=3, n_estimators=100, subsample=0.9; total time=   0.0s\n",
      "[CV] END gamma=0.2, learning_rate=0.01, max_depth=3, n_estimators=100, subsample=0.9; total time=   0.0s\n",
      "[CV] END gamma=0, learning_rate=0.01, max_depth=5, n_estimators=100, subsample=0.8; total time=   0.0s\n",
      "[CV] END gamma=0, learning_rate=0.01, max_depth=5, n_estimators=100, subsample=0.8; total time=   0.0s\n",
      "[CV] END gamma=0, learning_rate=0.01, max_depth=5, n_estimators=100, subsample=0.8; total time=   0.0s\n",
      "[CV] END gamma=0, learning_rate=0.2, max_depth=7, n_estimators=100, subsample=0.8; total time=   0.0s\n",
      "[CV] END gamma=0, learning_rate=0.2, max_depth=7, n_estimators=100, subsample=0.8; total time=   0.0s\n",
      "[CV] END gamma=0, learning_rate=0.2, max_depth=7, n_estimators=100, subsample=0.8; total time=   0.0s\n",
      "[CV] END gamma=0.1, learning_rate=0.01, max_depth=5, n_estimators=200, subsample=0.7; total time=   0.0s\n",
      "[CV] END gamma=0.1, learning_rate=0.01, max_depth=5, n_estimators=200, subsample=0.7; total time=   0.0s\n",
      "[CV] END gamma=0.1, learning_rate=0.01, max_depth=5, n_estimators=200, subsample=0.7; total time=   0.0s\n",
      "[CV] END gamma=0.1, learning_rate=0.2, max_depth=7, n_estimators=100, subsample=0.9; total time=   0.0s\n",
      "[CV] END gamma=0.1, learning_rate=0.2, max_depth=7, n_estimators=100, subsample=0.9; total time=   0.0s\n",
      "[CV] END gamma=0.1, learning_rate=0.2, max_depth=7, n_estimators=100, subsample=0.9; total time=   0.0s\n",
      "[CV] END gamma=0.1, learning_rate=0.1, max_depth=3, n_estimators=200, subsample=0.7; total time=   0.0s\n",
      "[CV] END gamma=0.1, learning_rate=0.1, max_depth=3, n_estimators=200, subsample=0.7; total time=   0.0s\n",
      "[CV] END gamma=0.1, learning_rate=0.1, max_depth=3, n_estimators=200, subsample=0.7; total time=   0.0s\n",
      "[CV] END gamma=0.2, learning_rate=0.2, max_depth=3, n_estimators=100, subsample=0.8; total time=   0.0s\n",
      "[CV] END gamma=0.2, learning_rate=0.2, max_depth=3, n_estimators=100, subsample=0.8; total time=   0.0s\n",
      "[CV] END gamma=0.2, learning_rate=0.2, max_depth=3, n_estimators=100, subsample=0.8; total time=   0.0s\n",
      "[CV] END gamma=0, learning_rate=0.01, max_depth=7, n_estimators=300, subsample=0.8; total time=   0.1s\n",
      "[CV] END gamma=0, learning_rate=0.01, max_depth=7, n_estimators=300, subsample=0.8; total time=   0.1s\n",
      "[CV] END gamma=0, learning_rate=0.01, max_depth=7, n_estimators=300, subsample=0.8; total time=   0.1s\n",
      "[CV] END gamma=0, learning_rate=0.2, max_depth=3, n_estimators=300, subsample=0.7; total time=   0.0s\n",
      "[CV] END gamma=0, learning_rate=0.2, max_depth=3, n_estimators=300, subsample=0.7; total time=   0.0s\n",
      "[CV] END gamma=0, learning_rate=0.2, max_depth=3, n_estimators=300, subsample=0.7; total time=   0.0s\n",
      "[CV] END gamma=0, learning_rate=0.01, max_depth=7, n_estimators=100, subsample=0.7; total time=   0.0s\n",
      "[CV] END gamma=0, learning_rate=0.01, max_depth=7, n_estimators=100, subsample=0.7; total time=   0.0s\n",
      "[CV] END gamma=0, learning_rate=0.01, max_depth=7, n_estimators=100, subsample=0.7; total time=   0.0s\n",
      "[CV] END gamma=0.1, learning_rate=0.1, max_depth=7, n_estimators=100, subsample=0.7; total time=   0.0s\n",
      "[CV] END gamma=0.1, learning_rate=0.1, max_depth=7, n_estimators=100, subsample=0.7; total time=   0.0s\n",
      "[CV] END gamma=0.1, learning_rate=0.1, max_depth=7, n_estimators=100, subsample=0.7; total time=   0.0s\n",
      "[CV] END gamma=0.1, learning_rate=0.01, max_depth=5, n_estimators=300, subsample=0.7; total time=   0.0s\n",
      "[CV] END gamma=0.1, learning_rate=0.01, max_depth=5, n_estimators=300, subsample=0.7; total time=   0.0s\n",
      "[CV] END gamma=0.1, learning_rate=0.01, max_depth=5, n_estimators=300, subsample=0.7; total time=   0.1s\n",
      "[CV] END gamma=0.2, learning_rate=0.1, max_depth=3, n_estimators=300, subsample=0.8; total time=   0.0s\n",
      "[CV] END gamma=0.2, learning_rate=0.1, max_depth=3, n_estimators=300, subsample=0.8; total time=   0.0s\n",
      "[CV] END gamma=0.2, learning_rate=0.1, max_depth=3, n_estimators=300, subsample=0.8; total time=   0.0s\n",
      "[CV] END gamma=0.1, learning_rate=0.2, max_depth=3, n_estimators=100, subsample=0.9; total time=   0.0s\n",
      "[CV] END gamma=0.1, learning_rate=0.2, max_depth=3, n_estimators=100, subsample=0.9; total time=   0.0s\n",
      "[CV] END gamma=0.1, learning_rate=0.2, max_depth=3, n_estimators=100, subsample=0.9; total time=   0.0s\n",
      "[CV] END gamma=0.2, learning_rate=0.2, max_depth=7, n_estimators=300, subsample=0.7; total time=   0.0s\n",
      "[CV] END gamma=0.2, learning_rate=0.2, max_depth=7, n_estimators=300, subsample=0.7; total time=   0.0s\n",
      "[CV] END gamma=0.2, learning_rate=0.2, max_depth=7, n_estimators=300, subsample=0.7; total time=   0.0s\n",
      "[CV] END gamma=0, learning_rate=0.2, max_depth=7, n_estimators=200, subsample=0.7; total time=   0.0s\n",
      "[CV] END gamma=0, learning_rate=0.2, max_depth=7, n_estimators=200, subsample=0.7; total time=   0.0s\n",
      "[CV] END gamma=0, learning_rate=0.2, max_depth=7, n_estimators=200, subsample=0.7; total time=   0.0s\n",
      "[CV] END gamma=0.1, learning_rate=0.1, max_depth=5, n_estimators=100, subsample=0.7; total time=   0.0s\n",
      "[CV] END gamma=0.1, learning_rate=0.1, max_depth=5, n_estimators=100, subsample=0.7; total time=   0.0s\n",
      "[CV] END gamma=0.1, learning_rate=0.1, max_depth=5, n_estimators=100, subsample=0.7; total time=   0.0s\n",
      "[CV] END gamma=0.1, learning_rate=0.1, max_depth=3, n_estimators=200, subsample=0.8; total time=   0.0s\n",
      "[CV] END gamma=0.1, learning_rate=0.1, max_depth=3, n_estimators=200, subsample=0.8; total time=   0.0s\n",
      "[CV] END gamma=0.1, learning_rate=0.1, max_depth=3, n_estimators=200, subsample=0.8; total time=   0.0s\n",
      "[CV] END gamma=0, learning_rate=0.01, max_depth=5, n_estimators=300, subsample=0.8; total time=   0.0s\n",
      "[CV] END gamma=0, learning_rate=0.01, max_depth=5, n_estimators=300, subsample=0.8; total time=   0.0s\n",
      "[CV] END gamma=0, learning_rate=0.01, max_depth=5, n_estimators=300, subsample=0.8; total time=   0.0s\n",
      "[CV] END gamma=0.2, learning_rate=0.1, max_depth=3, n_estimators=300, subsample=0.7; total time=   0.0s\n",
      "[CV] END gamma=0.2, learning_rate=0.1, max_depth=3, n_estimators=300, subsample=0.7; total time=   0.0s\n",
      "[CV] END gamma=0.2, learning_rate=0.1, max_depth=3, n_estimators=300, subsample=0.7; total time=   0.0s\n",
      "[CV] END gamma=0, learning_rate=0.2, max_depth=5, n_estimators=200, subsample=0.8; total time=   0.0s\n",
      "[CV] END gamma=0, learning_rate=0.2, max_depth=5, n_estimators=200, subsample=0.8; total time=   0.0s\n",
      "[CV] END gamma=0, learning_rate=0.2, max_depth=5, n_estimators=200, subsample=0.8; total time=   0.0s\n",
      "[CV] END gamma=0.2, learning_rate=0.01, max_depth=3, n_estimators=200, subsample=0.9; total time=   0.0s\n",
      "[CV] END gamma=0.2, learning_rate=0.01, max_depth=3, n_estimators=200, subsample=0.9; total time=   0.0s\n",
      "[CV] END gamma=0.2, learning_rate=0.01, max_depth=3, n_estimators=200, subsample=0.9; total time=   0.0s\n",
      "[CV] END gamma=0, learning_rate=0.1, max_depth=5, n_estimators=100, subsample=0.9; total time=   0.0s\n",
      "[CV] END gamma=0, learning_rate=0.1, max_depth=5, n_estimators=100, subsample=0.9; total time=   0.0s\n",
      "[CV] END gamma=0, learning_rate=0.1, max_depth=5, n_estimators=100, subsample=0.9; total time=   0.0s\n",
      "[CV] END gamma=0.2, learning_rate=0.01, max_depth=7, n_estimators=100, subsample=0.7; total time=   0.0s\n",
      "[CV] END gamma=0.2, learning_rate=0.01, max_depth=7, n_estimators=100, subsample=0.7; total time=   0.0s\n",
      "[CV] END gamma=0.2, learning_rate=0.01, max_depth=7, n_estimators=100, subsample=0.7; total time=   0.0s\n",
      "[CV] END gamma=0.1, learning_rate=0.1, max_depth=3, n_estimators=300, subsample=0.8; total time=   0.0s\n",
      "[CV] END gamma=0.1, learning_rate=0.1, max_depth=3, n_estimators=300, subsample=0.8; total time=   0.0s\n",
      "[CV] END gamma=0.1, learning_rate=0.1, max_depth=3, n_estimators=300, subsample=0.8; total time=   0.0s\n",
      "[CV] END gamma=0.2, learning_rate=0.1, max_depth=7, n_estimators=100, subsample=0.7; total time=   0.0s\n",
      "[CV] END gamma=0.2, learning_rate=0.1, max_depth=7, n_estimators=100, subsample=0.7; total time=   0.0s\n",
      "[CV] END gamma=0.2, learning_rate=0.1, max_depth=7, n_estimators=100, subsample=0.7; total time=   0.0s\n",
      "[CV] END gamma=0.1, learning_rate=0.2, max_depth=7, n_estimators=200, subsample=0.9; total time=   0.0s\n",
      "[CV] END gamma=0.1, learning_rate=0.2, max_depth=7, n_estimators=200, subsample=0.9; total time=   0.0s\n",
      "[CV] END gamma=0.1, learning_rate=0.2, max_depth=7, n_estimators=200, subsample=0.9; total time=   0.0s\n",
      "[CV] END gamma=0.1, learning_rate=0.1, max_depth=7, n_estimators=300, subsample=0.7; total time=   0.0s\n",
      "[CV] END gamma=0.1, learning_rate=0.1, max_depth=7, n_estimators=300, subsample=0.7; total time=   0.0s\n",
      "[CV] END gamma=0.1, learning_rate=0.1, max_depth=7, n_estimators=300, subsample=0.7; total time=   0.0s\n",
      "[CV] END gamma=0.1, learning_rate=0.01, max_depth=3, n_estimators=200, subsample=0.7; total time=   0.0s\n",
      "[CV] END gamma=0.1, learning_rate=0.01, max_depth=3, n_estimators=200, subsample=0.7; total time=   0.0s\n",
      "[CV] END gamma=0.1, learning_rate=0.01, max_depth=3, n_estimators=200, subsample=0.7; total time=   0.0s\n",
      "[CV] END gamma=0, learning_rate=0.2, max_depth=3, n_estimators=100, subsample=0.8; total time=   0.0s\n",
      "[CV] END gamma=0, learning_rate=0.2, max_depth=3, n_estimators=100, subsample=0.8; total time=   0.0s\n",
      "[CV] END gamma=0, learning_rate=0.2, max_depth=3, n_estimators=100, subsample=0.8; total time=   0.0s\n",
      "[CV] END gamma=0.1, learning_rate=0.01, max_depth=3, n_estimators=200, subsample=0.9; total time=   0.0s\n",
      "[CV] END gamma=0.1, learning_rate=0.01, max_depth=3, n_estimators=200, subsample=0.9; total time=   0.0s\n",
      "[CV] END gamma=0.1, learning_rate=0.01, max_depth=3, n_estimators=200, subsample=0.9; total time=   0.0s\n",
      "[CV] END gamma=0.2, learning_rate=0.01, max_depth=3, n_estimators=100, subsample=0.7; total time=   0.0s\n",
      "[CV] END gamma=0.2, learning_rate=0.01, max_depth=3, n_estimators=100, subsample=0.7; total time=   0.0s\n",
      "[CV] END gamma=0.2, learning_rate=0.01, max_depth=3, n_estimators=100, subsample=0.7; total time=   0.0s\n",
      "[CV] END gamma=0.2, learning_rate=0.01, max_depth=5, n_estimators=300, subsample=0.8; total time=   0.0s\n",
      "[CV] END gamma=0.2, learning_rate=0.01, max_depth=5, n_estimators=300, subsample=0.8; total time=   0.0s\n",
      "[CV] END gamma=0.2, learning_rate=0.01, max_depth=5, n_estimators=300, subsample=0.8; total time=   0.0s\n",
      "[CV] END gamma=0.2, learning_rate=0.2, max_depth=3, n_estimators=300, subsample=0.9; total time=   0.0s\n",
      "[CV] END gamma=0.2, learning_rate=0.2, max_depth=3, n_estimators=300, subsample=0.9; total time=   0.0s\n",
      "[CV] END gamma=0.2, learning_rate=0.2, max_depth=3, n_estimators=300, subsample=0.9; total time=   0.0s\n",
      "[CV] END gamma=0.2, learning_rate=0.2, max_depth=5, n_estimators=200, subsample=0.9; total time=   0.0s\n",
      "[CV] END gamma=0.2, learning_rate=0.2, max_depth=5, n_estimators=200, subsample=0.9; total time=   0.0s\n",
      "[CV] END gamma=0.2, learning_rate=0.2, max_depth=5, n_estimators=200, subsample=0.9; total time=   0.0s\n",
      "[CV] END gamma=0.1, learning_rate=0.2, max_depth=7, n_estimators=100, subsample=0.8; total time=   0.0s\n",
      "[CV] END gamma=0.1, learning_rate=0.2, max_depth=7, n_estimators=100, subsample=0.8; total time=   0.0s\n",
      "[CV] END gamma=0.1, learning_rate=0.2, max_depth=7, n_estimators=100, subsample=0.8; total time=   0.0s\n",
      "[CV] END gamma=0.1, learning_rate=0.01, max_depth=5, n_estimators=300, subsample=0.8; total time=   0.0s\n",
      "[CV] END gamma=0.1, learning_rate=0.01, max_depth=5, n_estimators=300, subsample=0.8; total time=   0.0s\n",
      "[CV] END gamma=0.1, learning_rate=0.01, max_depth=5, n_estimators=300, subsample=0.8; total time=   0.0s\n",
      "[CV] END gamma=0.1, learning_rate=0.2, max_depth=3, n_estimators=300, subsample=0.7; total time=   0.0s\n",
      "[CV] END gamma=0.1, learning_rate=0.2, max_depth=3, n_estimators=300, subsample=0.7; total time=   0.0s\n",
      "[CV] END gamma=0.1, learning_rate=0.2, max_depth=3, n_estimators=300, subsample=0.7; total time=   0.0s\n",
      "[CV] END gamma=0.2, learning_rate=0.1, max_depth=3, n_estimators=200, subsample=0.7; total time=   0.0s\n",
      "[CV] END gamma=0.2, learning_rate=0.1, max_depth=3, n_estimators=200, subsample=0.7; total time=   0.0s\n",
      "[CV] END gamma=0.2, learning_rate=0.1, max_depth=3, n_estimators=200, subsample=0.7; total time=   0.0s\n",
      "[CV] END gamma=0, learning_rate=0.2, max_depth=5, n_estimators=200, subsample=0.9; total time=   0.0s\n",
      "[CV] END gamma=0, learning_rate=0.2, max_depth=5, n_estimators=200, subsample=0.9; total time=   0.0s\n",
      "[CV] END gamma=0, learning_rate=0.2, max_depth=5, n_estimators=200, subsample=0.9; total time=   0.0s\n",
      "[CV] END gamma=0.1, learning_rate=0.1, max_depth=5, n_estimators=100, subsample=0.9; total time=   0.0s\n",
      "[CV] END gamma=0.1, learning_rate=0.1, max_depth=5, n_estimators=100, subsample=0.9; total time=   0.0s\n",
      "[CV] END gamma=0.1, learning_rate=0.1, max_depth=5, n_estimators=100, subsample=0.9; total time=   0.0s\n",
      "[CV] END gamma=0, learning_rate=0.2, max_depth=5, n_estimators=300, subsample=0.7; total time=   0.0s\n",
      "[CV] END gamma=0, learning_rate=0.2, max_depth=5, n_estimators=300, subsample=0.7; total time=   0.0s\n",
      "[CV] END gamma=0, learning_rate=0.2, max_depth=5, n_estimators=300, subsample=0.7; total time=   0.0s\n",
      "[CV] END gamma=0.1, learning_rate=0.2, max_depth=7, n_estimators=100, subsample=0.7; total time=   0.0s\n",
      "[CV] END gamma=0.1, learning_rate=0.2, max_depth=7, n_estimators=100, subsample=0.7; total time=   0.0s\n",
      "[CV] END gamma=0.1, learning_rate=0.2, max_depth=7, n_estimators=100, subsample=0.7; total time=   0.0s\n",
      "[CV] END gamma=0.2, learning_rate=0.1, max_depth=3, n_estimators=200, subsample=0.9; total time=   0.0s\n",
      "[CV] END gamma=0.2, learning_rate=0.1, max_depth=3, n_estimators=200, subsample=0.9; total time=   0.0s\n",
      "[CV] END gamma=0.2, learning_rate=0.1, max_depth=3, n_estimators=200, subsample=0.9; total time=   0.0s\n",
      "[CV] END gamma=0.1, learning_rate=0.01, max_depth=7, n_estimators=200, subsample=0.9; total time=   0.0s\n",
      "[CV] END gamma=0.1, learning_rate=0.01, max_depth=7, n_estimators=200, subsample=0.9; total time=   0.0s\n",
      "[CV] END gamma=0.1, learning_rate=0.01, max_depth=7, n_estimators=200, subsample=0.9; total time=   0.0s\n",
      "[CV] END gamma=0.1, learning_rate=0.1, max_depth=3, n_estimators=100, subsample=0.8; total time=   0.0s\n",
      "[CV] END gamma=0.1, learning_rate=0.1, max_depth=3, n_estimators=100, subsample=0.8; total time=   0.0s\n",
      "[CV] END gamma=0.1, learning_rate=0.1, max_depth=3, n_estimators=100, subsample=0.8; total time=   0.0s\n",
      "[CV] END gamma=0.2, learning_rate=0.1, max_depth=3, n_estimators=100, subsample=0.8; total time=   0.0s\n",
      "[CV] END gamma=0.2, learning_rate=0.1, max_depth=3, n_estimators=100, subsample=0.8; total time=   0.0s\n",
      "[CV] END gamma=0.2, learning_rate=0.1, max_depth=3, n_estimators=100, subsample=0.8; total time=   0.0s\n",
      "[CV] END gamma=0, learning_rate=0.2, max_depth=7, n_estimators=300, subsample=0.8; total time=   0.0s\n",
      "[CV] END gamma=0, learning_rate=0.2, max_depth=7, n_estimators=300, subsample=0.8; total time=   0.0s\n",
      "[CV] END gamma=0, learning_rate=0.2, max_depth=7, n_estimators=300, subsample=0.8; total time=   0.0s\n",
      "[CV] END gamma=0, learning_rate=0.1, max_depth=3, n_estimators=100, subsample=0.9; total time=   0.0s\n",
      "[CV] END gamma=0, learning_rate=0.1, max_depth=3, n_estimators=100, subsample=0.9; total time=   0.0s\n",
      "[CV] END gamma=0, learning_rate=0.1, max_depth=3, n_estimators=100, subsample=0.9; total time=   0.0s\n",
      "[CV] END gamma=0.1, learning_rate=0.1, max_depth=5, n_estimators=200, subsample=0.7; total time=   0.0s\n",
      "[CV] END gamma=0.1, learning_rate=0.1, max_depth=5, n_estimators=200, subsample=0.7; total time=   0.0s\n",
      "[CV] END gamma=0.1, learning_rate=0.1, max_depth=5, n_estimators=200, subsample=0.7; total time=   0.0s\n",
      "[CV] END gamma=0.1, learning_rate=0.1, max_depth=3, n_estimators=300, subsample=0.7; total time=   0.0s\n",
      "[CV] END gamma=0.1, learning_rate=0.1, max_depth=3, n_estimators=300, subsample=0.7; total time=   0.0s\n",
      "[CV] END gamma=0.1, learning_rate=0.1, max_depth=3, n_estimators=300, subsample=0.7; total time=   0.0s\n",
      "[CV] END gamma=0.2, learning_rate=0.2, max_depth=7, n_estimators=300, subsample=0.8; total time=   0.0s\n",
      "[CV] END gamma=0.2, learning_rate=0.2, max_depth=7, n_estimators=300, subsample=0.8; total time=   0.0s\n",
      "[CV] END gamma=0.2, learning_rate=0.2, max_depth=7, n_estimators=300, subsample=0.8; total time=   0.0s\n",
      "[CV] END gamma=0, learning_rate=0.01, max_depth=3, n_estimators=200, subsample=0.9; total time=   0.0s\n",
      "[CV] END gamma=0, learning_rate=0.01, max_depth=3, n_estimators=200, subsample=0.9; total time=   0.0s\n",
      "[CV] END gamma=0, learning_rate=0.01, max_depth=3, n_estimators=200, subsample=0.9; total time=   0.0s\n",
      "[CV] END gamma=0, learning_rate=0.2, max_depth=3, n_estimators=100, subsample=0.9; total time=   0.0s\n",
      "[CV] END gamma=0, learning_rate=0.2, max_depth=3, n_estimators=100, subsample=0.9; total time=   0.0s\n",
      "[CV] END gamma=0, learning_rate=0.2, max_depth=3, n_estimators=100, subsample=0.9; total time=   0.0s\n",
      "[CV] END gamma=0.1, learning_rate=0.1, max_depth=5, n_estimators=300, subsample=0.8; total time=   0.0s\n",
      "[CV] END gamma=0.1, learning_rate=0.1, max_depth=5, n_estimators=300, subsample=0.8; total time=   0.0s\n",
      "[CV] END gamma=0.1, learning_rate=0.1, max_depth=5, n_estimators=300, subsample=0.8; total time=   0.0s\n",
      "[CV] END gamma=0.1, learning_rate=0.2, max_depth=5, n_estimators=200, subsample=0.7; total time=   0.0s\n",
      "[CV] END gamma=0.1, learning_rate=0.2, max_depth=5, n_estimators=200, subsample=0.7; total time=   0.0s\n",
      "[CV] END gamma=0.1, learning_rate=0.2, max_depth=5, n_estimators=200, subsample=0.7; total time=   0.0s\n",
      "[CV] END gamma=0.2, learning_rate=0.2, max_depth=5, n_estimators=100, subsample=0.8; total time=   0.0s\n",
      "[CV] END gamma=0.2, learning_rate=0.2, max_depth=5, n_estimators=100, subsample=0.8; total time=   0.0s\n",
      "[CV] END gamma=0.2, learning_rate=0.2, max_depth=5, n_estimators=100, subsample=0.8; total time=   0.0s\n",
      "[CV] END gamma=0, learning_rate=0.2, max_depth=5, n_estimators=100, subsample=0.9; total time=   0.0s\n",
      "[CV] END gamma=0, learning_rate=0.2, max_depth=5, n_estimators=100, subsample=0.9; total time=   0.0s\n",
      "[CV] END gamma=0, learning_rate=0.2, max_depth=5, n_estimators=100, subsample=0.9; total time=   0.0s\n",
      "[CV] END gamma=0.2, learning_rate=0.01, max_depth=3, n_estimators=300, subsample=0.7; total time=   0.0s\n",
      "[CV] END gamma=0.2, learning_rate=0.01, max_depth=3, n_estimators=300, subsample=0.7; total time=   0.0s\n",
      "[CV] END gamma=0.2, learning_rate=0.01, max_depth=3, n_estimators=300, subsample=0.7; total time=   0.0s\n",
      "[CV] END gamma=0.2, learning_rate=0.1, max_depth=5, n_estimators=300, subsample=0.9; total time=   0.0s\n",
      "[CV] END gamma=0.2, learning_rate=0.1, max_depth=5, n_estimators=300, subsample=0.9; total time=   0.0s\n",
      "[CV] END gamma=0.2, learning_rate=0.1, max_depth=5, n_estimators=300, subsample=0.9; total time=   0.0s\n",
      "[CV] END gamma=0.1, learning_rate=0.2, max_depth=5, n_estimators=100, subsample=0.7; total time=   0.0s\n",
      "[CV] END gamma=0.1, learning_rate=0.2, max_depth=5, n_estimators=100, subsample=0.7; total time=   0.0s\n",
      "[CV] END gamma=0.1, learning_rate=0.2, max_depth=5, n_estimators=100, subsample=0.7; total time=   0.0s\n",
      "[CV] END gamma=0, learning_rate=0.1, max_depth=3, n_estimators=200, subsample=0.8; total time=   0.0s\n",
      "[CV] END gamma=0, learning_rate=0.1, max_depth=3, n_estimators=200, subsample=0.8; total time=   0.0s\n",
      "[CV] END gamma=0, learning_rate=0.1, max_depth=3, n_estimators=200, subsample=0.8; total time=   0.0s\n",
      "[CV] END gamma=0, learning_rate=0.01, max_depth=5, n_estimators=200, subsample=0.7; total time=   0.0s\n",
      "[CV] END gamma=0, learning_rate=0.01, max_depth=5, n_estimators=200, subsample=0.7; total time=   0.0s\n",
      "[CV] END gamma=0, learning_rate=0.01, max_depth=5, n_estimators=200, subsample=0.7; total time=   0.0s\n",
      "[CV] END gamma=0, learning_rate=0.1, max_depth=3, n_estimators=300, subsample=0.9; total time=   0.0s\n",
      "[CV] END gamma=0, learning_rate=0.1, max_depth=3, n_estimators=300, subsample=0.9; total time=   0.0s\n",
      "[CV] END gamma=0, learning_rate=0.1, max_depth=3, n_estimators=300, subsample=0.9; total time=   0.0s\n",
      "[CV] END gamma=0, learning_rate=0.1, max_depth=3, n_estimators=100, subsample=0.8; total time=   0.0s\n",
      "[CV] END gamma=0, learning_rate=0.1, max_depth=3, n_estimators=100, subsample=0.8; total time=   0.0s\n",
      "[CV] END gamma=0, learning_rate=0.1, max_depth=3, n_estimators=100, subsample=0.8; total time=   0.0s\n",
      "[CV] END gamma=0, learning_rate=0.1, max_depth=5, n_estimators=300, subsample=0.7; total time=   0.0s\n",
      "[CV] END gamma=0, learning_rate=0.1, max_depth=5, n_estimators=300, subsample=0.7; total time=   0.0s\n",
      "[CV] END gamma=0, learning_rate=0.1, max_depth=5, n_estimators=300, subsample=0.7; total time=   0.0s\n",
      "[CV] END gamma=0.1, learning_rate=0.01, max_depth=7, n_estimators=100, subsample=0.9; total time=   0.0s\n",
      "[CV] END gamma=0.1, learning_rate=0.01, max_depth=7, n_estimators=100, subsample=0.9; total time=   0.0s\n",
      "[CV] END gamma=0.1, learning_rate=0.01, max_depth=7, n_estimators=100, subsample=0.9; total time=   0.0s\n",
      "[CV] END gamma=0.1, learning_rate=0.1, max_depth=5, n_estimators=300, subsample=0.9; total time=   0.0s\n",
      "[CV] END gamma=0.1, learning_rate=0.1, max_depth=5, n_estimators=300, subsample=0.9; total time=   0.0s\n",
      "[CV] END gamma=0.1, learning_rate=0.1, max_depth=5, n_estimators=300, subsample=0.9; total time=   0.0s\n",
      "[CV] END gamma=0.2, learning_rate=0.01, max_depth=5, n_estimators=200, subsample=0.9; total time=   0.0s\n",
      "[CV] END gamma=0.2, learning_rate=0.01, max_depth=5, n_estimators=200, subsample=0.9; total time=   0.0s\n",
      "[CV] END gamma=0.2, learning_rate=0.01, max_depth=5, n_estimators=200, subsample=0.9; total time=   0.0s\n",
      "[CV] END gamma=0, learning_rate=0.1, max_depth=7, n_estimators=300, subsample=0.7; total time=   0.0s\n",
      "[CV] END gamma=0, learning_rate=0.1, max_depth=7, n_estimators=300, subsample=0.7; total time=   0.0s\n",
      "[CV] END gamma=0, learning_rate=0.1, max_depth=7, n_estimators=300, subsample=0.7; total time=   0.0s\n",
      "[CV] END gamma=0.1, learning_rate=0.01, max_depth=5, n_estimators=200, subsample=0.9; total time=   0.0s\n",
      "[CV] END gamma=0.1, learning_rate=0.01, max_depth=5, n_estimators=200, subsample=0.9; total time=   0.0s\n",
      "[CV] END gamma=0.1, learning_rate=0.01, max_depth=5, n_estimators=200, subsample=0.9; total time=   0.0s\n",
      "[CV] END gamma=0.1, learning_rate=0.2, max_depth=3, n_estimators=200, subsample=0.8; total time=   0.0s\n",
      "[CV] END gamma=0.1, learning_rate=0.2, max_depth=3, n_estimators=200, subsample=0.8; total time=   0.0s\n",
      "[CV] END gamma=0.1, learning_rate=0.2, max_depth=3, n_estimators=200, subsample=0.8; total time=   0.0s\n",
      "[CV] END gamma=0.2, learning_rate=0.1, max_depth=3, n_estimators=200, subsample=0.8; total time=   0.0s\n",
      "[CV] END gamma=0.2, learning_rate=0.1, max_depth=3, n_estimators=200, subsample=0.8; total time=   0.0s\n",
      "[CV] END gamma=0.2, learning_rate=0.1, max_depth=3, n_estimators=200, subsample=0.8; total time=   0.0s\n",
      "[CV] END gamma=0, learning_rate=0.2, max_depth=7, n_estimators=200, subsample=0.8; total time=   0.0s\n",
      "[CV] END gamma=0, learning_rate=0.2, max_depth=7, n_estimators=200, subsample=0.8; total time=   0.0s\n",
      "[CV] END gamma=0, learning_rate=0.2, max_depth=7, n_estimators=200, subsample=0.8; total time=   0.0s\n",
      "[CV] END gamma=0, learning_rate=0.1, max_depth=5, n_estimators=200, subsample=0.9; total time=   0.0s\n",
      "[CV] END gamma=0, learning_rate=0.1, max_depth=5, n_estimators=200, subsample=0.9; total time=   0.0s\n",
      "[CV] END gamma=0, learning_rate=0.1, max_depth=5, n_estimators=200, subsample=0.9; total time=   0.0s\n",
      "{'subsample': 0.7, 'n_estimators': 300, 'max_depth': 3, 'learning_rate': 0.2, 'gamma': 0}\n"
     ]
    }
   ],
   "source": [
    "# Perform Randomized Search \n",
    "random_search = RandomizedSearchCV(\n",
    "    estimator=xgboost_model,\n",
    "    param_distributions=param_dist,\n",
    "    n_iter=100,\n",
    "    cv=3,\n",
    "    verbose=2,\n",
    "    random_state=42\n",
    ")\n",
    "\n",
    "# Fit the Randomized Search\n",
    "random_search.fit(X_train, y_train)\n",
    "print(random_search.best_params_)"
   ]
  },
  {
   "cell_type": "code",
   "execution_count": 70,
   "metadata": {},
   "outputs": [
    {
     "name": "stdout",
     "output_type": "stream",
     "text": [
      "Accuracy: 0.99\n",
      "Precision: 0.99\n",
      "Recall: 0.98\n",
      "F1 Score: 0.99\n",
      "AUC: 0.99\n"
     ]
    }
   ],
   "source": [
    "best_xgb_model = random_search.best_estimator_\n",
    "\n",
    "# Evaluate the best model on the test set\n",
    "y_pred = best_xgb_model.predict(X_test)\n",
    "\n",
    "# Calculate performance metrics\n",
    "accuracy = accuracy_score(y_test, y_pred)\n",
    "precision = precision_score(y_test, y_pred)\n",
    "recall = recall_score(y_test, y_pred)\n",
    "f1 = f1_score(y_test, y_pred)\n",
    "auc_score = roc_auc_score(y_test, y_pred)\n",
    "\n",
    "# Print the performance metrics\n",
    "print(f'Accuracy: {accuracy:.2f}')\n",
    "print(f'Precision: {precision:.2f}')\n",
    "print(f'Recall: {recall:.2f}')\n",
    "print(f'F1 Score: {f1:.2f}')\n",
    "print(f'AUC: {auc_score:.2f}')"
   ]
  },
  {
   "cell_type": "markdown",
   "metadata": {},
   "source": [
    "By performing Hyperparameter Tuning of XGBoost , we managed to improve the overall metrics of the classifier"
   ]
  },
  {
   "cell_type": "code",
   "execution_count": 71,
   "metadata": {},
   "outputs": [
    {
     "data": {
      "image/png": "[encoded data removed]",
      "text/plain": [
       "<Figure size 432x288 with 2 Axes>"
      ]
     },
     "metadata": {
      "needs_background": "light"
     },
     "output_type": "display_data"
    }
   ],
   "source": [
    "# Plotting Confusion Matrix\n",
    "import seaborn as sns\n",
    "cm = confusion_matrix(y_test, y_pred)\n",
    "sns.heatmap(cm, annot=True, fmt='d', cmap='Blues')\n",
    "plt.xlabel('Predicted')\n",
    "plt.ylabel('True')\n",
    "plt.title('Confusion Matrix')\n",
    "plt.show()"
   ]
  },
  {
   "cell_type": "code",
   "execution_count": 72,
   "metadata": {},
   "outputs": [
    {
     "data": {
      "image/png": "[encoded data removed]",
      "text/plain": [
       "<Figure size 720x432 with 1 Axes>"
      ]
     },
     "metadata": {
      "needs_background": "light"
     },
     "output_type": "display_data"
    }
   ],
   "source": [
    "# Plotting Feature Importance\n",
    "importances = best_xgb_model.feature_importances_\n",
    "indices = np.argsort(importances)[::-1]\n",
    "features = X.columns\n",
    "\n",
    "plt.figure(figsize=(10, 6))\n",
    "plt.title('Feature Importances')\n",
    "plt.bar(range(X.shape[1]), importances[indices], align='center')\n",
    "plt.xticks(range(X.shape[1]), [features[i] for i in indices], rotation=90)\n",
    "plt.tight_layout()\n",
    "plt.show()"
   ]
  },
  {
   "cell_type": "markdown",
   "metadata": {},
   "source": [
    "By performing training various models like Logistic Regression, Random Forest, Gradient Boosting, XGBoost. We found that XGBoost gives the best performance with the dataset with 99% (Accuracy) on the test dataset."
   ]
  },
  {
   "cell_type": "markdown",
   "metadata": {},
   "source": [
    "### But why did XGBoost Algorithm performed well?"
   ]
  },
  {
   "cell_type": "markdown",
   "metadata": {},
   "source": [
    "1. Higher Accuracy\n",
    "Advanced Tree Pruning: XGBoost uses a technique called \"max depth pruning,\" which is more sophisticated than traditional tree pruning methods. This allows it to better manage the trade-off between model complexity and accuracy.\n",
    "Handling Non-linearity: Unlike Logistic Regression, which is linear, XGBoost can model complex non-linear relationships, making it more suitable for datasets where such relationships are prevalent.\n",
    "\n",
    "2. Efficiency\n",
    "Parallel Processing: XGBoost is optimized for speed, employing parallel processing to build trees simultaneously, significantly reducing training time compared to traditional Random Forests and Gradient Boosting.\n",
    "Hardware Optimization: It leverages advanced optimization techniques and hardware resources efficiently, making it faster even on large datasets\n",
    ".\n",
    "3. Regularization\n",
    "L1 and L2 Regularization: XGBoost includes both L1 (Lasso) and L2 (Ridge) regularization, which helps in reducing overfitting. This is a significant improvement over traditional Gradient Boosting, which may overfit if not properly tuned.\n",
    "Built-in Penalties: The algorithm applies penalties on large numbers of trees and complex models, making it more robust and less prone to overfitting compared to Random Forests, which may require manual tuning.\n",
    "\n",
    "4. Scalability\n",
    "Handling Large Datasets: XGBoost is designed to handle very large datasets, both in terms of the number of samples and features. It can efficiently process millions of examples, making it more scalable than traditional methods like Logistic Regression, which may struggle with high-dimensional data.\n",
    "Sparse Data Handling: XGBoost is particularly effective in handling sparse data, which is common in many real-world scenarios, such as text classification.\n",
    "\n",
    "5. Handling Missing Values\n",
    "In-built Missing Value Treatment: Unlike many algorithms that require imputation of missing values, XGBoost can automatically learn the best direction to take when encountering missing data during the training process. This built-in capability improves its performance on datasets with incomplete data.\n",
    "\n",
    "6. Flexibility\n",
    "Custom Objective Functions: XGBoost allows for the customization of objective functions and evaluation metrics, providing greater flexibility to tune the model for specific problems, which is not as straightforward with Logistic Regression or Random Forest.\n",
    "Boosting Variants: XGBoost supports various boosting variants like Dart and Rank, offering more options for specific types of data and tasks."
   ]
  },
  {
   "cell_type": "markdown",
   "metadata": {},
   "source": [
    "#### Dumping the model"
   ]
  },
  {
   "cell_type": "code",
   "execution_count": 73,
   "metadata": {},
   "outputs": [],
   "source": [
    "# Save the model\n",
    "import pickle\n",
    "with open('xgboost_model.pkl', 'wb') as file:\n",
    "    pickle.dump(model, file)"
   ]
  }
 ],
 "metadata": {
  "kernelspec": {
   "display_name": "Python 3",
   "language": "python",
   "name": "python3"
  },
  "language_info": {
   "codemirror_mode": {
    "name": "ipython",
    "version": 3
   },
   "file_extension": ".py",
   "mimetype": "text/x-python",
   "name": "python",
   "nbconvert_exporter": "python",
   "pygments_lexer": "ipython3",
   "version": "3.10.6"
  }
 },
 "nbformat": 4,
 "nbformat_minor": 2
}
